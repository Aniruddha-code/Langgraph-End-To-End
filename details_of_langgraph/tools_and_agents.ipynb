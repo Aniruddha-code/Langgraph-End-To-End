{
 "cells": [
  {
   "cell_type": "code",
   "execution_count": 1,
   "id": "46573735",
   "metadata": {},
   "outputs": [
    {
     "data": {
      "text/plain": [
       "True"
      ]
     },
     "execution_count": 1,
     "metadata": {},
     "output_type": "execute_result"
    }
   ],
   "source": [
    "import os\n",
    "from dotenv import load_dotenv\n",
    "load_dotenv()"
   ]
  },
  {
   "cell_type": "code",
   "execution_count": 2,
   "id": "9859d6f6",
   "metadata": {},
   "outputs": [],
   "source": [
    "GOOGLE_API_KEY=os.getenv(\"GOOGLE_API_KEY\")\n",
    "TAVILY_API_KEY=os.getenv(\"TAVILY_API_KEY\")\n",
    "GROQ_API_KEY=os.getenv(\"GROQ_API_KEY\")\n",
    "SERPER_API_KEY=os.getenv(\"SERPER_API_KEY\")\n",
    "LANGCHAIN_API_KEY=os.getenv(\"LANGCHAIN_API_KEY\")\n",
    "LANGCHAIN_PROJECT=os.getenv(\"LANGCHAIN_PROJECT\")\n",
    "os.environ[\"GOOGLE_API_KEY\"] = GOOGLE_API_KEY\n",
    "os.environ[\"TAVILY_API_KEY\"] = TAVILY_API_KEY\n",
    "os.environ[\"GROQ_API_KEY\"]= GROQ_API_KEY\n",
    "os.environ[\"LANGCHAIN_API_KEY\"] = LANGCHAIN_API_KEY\n",
    "os.environ[\"SERPER_API_KEY\"] = SERPER_API_KEY\n",
    "os.environ[\"LANGCHAIN_TRACING_V2\"] = \"true\"\n",
    "os.environ[\"LANGCHAIN_ENDPOINT\"] = \"https://api.smith.langchain.com\"\n",
    "os.environ[\"LANGCHAIN_PROJECT\"]=LANGCHAIN_PROJECT"
   ]
  },
  {
   "cell_type": "code",
   "execution_count": 3,
   "id": "b8a012ab",
   "metadata": {},
   "outputs": [
    {
     "name": "stderr",
     "output_type": "stream",
     "text": [
      "d:\\PythonCode\\Langgraph-End-To-End\\langgraphvenv\\Lib\\site-packages\\tqdm\\auto.py:21: TqdmWarning: IProgress not found. Please update jupyter and ipywidgets. See https://ipywidgets.readthedocs.io/en/stable/user_install.html\n",
      "  from .autonotebook import tqdm as notebook_tqdm\n"
     ]
    }
   ],
   "source": [
    "from langchain_groq import ChatGroq\n",
    "llm_groq = ChatGroq(model=\"llama-3.3-70b-versatile\")"
   ]
  },
  {
   "cell_type": "code",
   "execution_count": 4,
   "id": "35e6d4b8",
   "metadata": {},
   "outputs": [
    {
     "data": {
      "text/plain": [
       "AIMessage(content=\"I'm doing well, thanks for asking. I'm a large language model, so I don't have feelings or emotions like humans do, but I'm here to help and chat with you. How about you? How's your day going?\", additional_kwargs={}, response_metadata={'token_usage': {'completion_tokens': 50, 'prompt_tokens': 40, 'total_tokens': 90, 'completion_time': 0.097364894, 'prompt_time': 0.001959112, 'queue_time': 0.054903528, 'total_time': 0.099324006}, 'model_name': 'llama-3.3-70b-versatile', 'system_fingerprint': 'fp_34d416ee39', 'service_tier': 'on_demand', 'finish_reason': 'stop', 'logprobs': None}, id='run--914e2f39-e313-4841-a7ae-1bb157b21c28-0', usage_metadata={'input_tokens': 40, 'output_tokens': 50, 'total_tokens': 90})"
      ]
     },
     "execution_count": 4,
     "metadata": {},
     "output_type": "execute_result"
    }
   ],
   "source": [
    "llm_groq.invoke(\"Hi, How are you\")"
   ]
  },
  {
   "cell_type": "code",
   "execution_count": 5,
   "id": "abc5d11e",
   "metadata": {},
   "outputs": [],
   "source": [
    "from langchain_huggingface import HuggingFaceEmbeddings\n",
    "embeddings=HuggingFaceEmbeddings(model_name=\"all-MiniLM-L6-v2\")"
   ]
  },
  {
   "cell_type": "markdown",
   "id": "99efb465",
   "metadata": {},
   "source": [
    "###Predefined tool"
   ]
  },
  {
   "cell_type": "code",
   "execution_count": 6,
   "id": "3e508360",
   "metadata": {},
   "outputs": [
    {
     "name": "stdout",
     "output_type": "stream",
     "text": [
      "\u001b[32;1m\u001b[1;3mPage: LangChain\n",
      "Summary: LangChain is a software framework that helps facilitate the integration of large language models (LLMs) into applications. As a language model integration framework, LangChain's use-cases largely overlap with those of language models in general, including document analysis and summarization, chatbots, and code analysis.\n",
      "\n",
      "Page: List of unsolved problems in mathematics\n",
      "Summary: Many mathematical problems have been stated but not yet solved. These problems come from many areas of mathematics, such as theoretical physics, computer science, algebra, analysis, combinatorics, algebraic, differential, discrete and Euclidean geometries, graph theory, group theory, model theory, number theory, set theory, Ramsey theory, dynamical systems, and partial differential equations. Some problems belong to more than one discipline and are studied using techniques from different areas. Prizes are often awarded for the solution to a long-standing problem, and some lists of unsolved problems, such as the Millennium Prize Problems, receive considerable attention.\n",
      "This list is a composite of notable unsolved problems mentioned in previously published lists, including but not limited to lists considered authoritative, and the problems listed here vary widely in both difficulty and importance.\n",
      "\n",
      "Page: C (programming language)\n",
      "Summary: C is a general-purpose programming language. It was created in the 1970s by Dennis Ritchie and remains widely used and influential. By design, C gives the programmer relatively direct access to the features of the typical CPU architecture, customized for the target instruction set. It has been and continues to be used to implement operating systems (especially kernels), device drivers, and protocol stacks, but its use in application software has been decreasing. C is used on computers that range from the largest supercomputers to the smallest microcontrollers and embedded systems.\n",
      "A successor to the programming language B, C was originally developed at Bell Labs by Ritchie between 1972 and 1973 to construct utilities running on Unix. It was applied to re-implementing the kernel of the Unix operating system. During the 1980s, C gradually gained popularity. It has become one of the most widely used programming languages, with C compilers available for practically all modern computer architectures and operating systems. The book The C Programming Language, co-authored by the original language designer, served for many years as the de facto standard for the language. C has been standardized since 1989 by the American National Standards Institute (ANSI) and, subsequently, jointly by the International Organization for Standardization (ISO) and the International Electrotechnical Commission (IEC).\n",
      "C is an imperative procedural language, supporting structured programming, lexical variable scope, and recursion, with a static type system. It was designed to be compiled to provide low-level access to memory and language constructs that map efficiently to machine instructions, all with minimal runtime support. Despite its low-level capabilities, the language was designed to encourage cross-platform programming. A standards-compliant C program written with portability in mind can be compiled for a wide variety of computer platforms and operating systems with few changes to its source code.\n",
      "Although neither C nor its standard library provide some popular features found in other languages, it is flexible enough to support them. For example, object orientation and garbage collection are provided by external libraries GLib Object System and Boehm garbage collector, respectively.\n",
      "Since 2000, C has consistently ranked among the top four languages in the TIOBE index, a measure of the popularity of programming languages.\u001b[0mPage: LangChain\n",
      "Summary: LangChain is a software framework that helps facilitate the integration of large language models (LLMs) into applications. As a language model integration framework, LangChain's use-cases largely overlap with those of language models in general, including document analysis and summarization, chatbots, and code analysis.\n",
      "\n",
      "Page: List of unsolved problems in mathematics\n",
      "Summary: Many mathematical problems have been stated but not yet solved. These problems come from many areas of mathematics, such as theoretical physics, computer science, algebra, analysis, combinatorics, algebraic, differential, discrete and Euclidean geometries, graph theory, group theory, model theory, number theory, set theory, Ramsey theory, dynamical systems, and partial differential equations. Some problems belong to more than one discipline and are studied using techniques from different areas. Prizes are often awarded for the solution to a long-standing problem, and some lists of unsolved problems, such as the Millennium Prize Problems, receive considerable attention.\n",
      "This list is a composite of notable unsolved problems mentioned in previously published lists, including but not limited to lists considered authoritative, and the problems listed here vary widely in both difficulty and importance.\n",
      "\n",
      "Page: C (programming language)\n",
      "Summary: C is a general-purpose programming language. It was created in the 1970s by Dennis Ritchie and remains widely used and influential. By design, C gives the programmer relatively direct access to the features of the typical CPU architecture, customized for the target instruction set. It has been and continues to be used to implement operating systems (especially kernels), device drivers, and protocol stacks, but its use in application software has been decreasing. C is used on computers that range from the largest supercomputers to the smallest microcontrollers and embedded systems.\n",
      "A successor to the programming language B, C was originally developed at Bell Labs by Ritchie between 1972 and 1973 to construct utilities running on Unix. It was applied to re-implementing the kernel of the Unix operating system. During the 1980s, C gradually gained popularity. It has become one of the most widely used programming languages, with C compilers available for practically all modern computer architectures and operating systems. The book The C Programming Language, co-authored by the original language designer, served for many years as the de facto standard for the language. C has been standardized since 1989 by the American National Standards Institute (ANSI) and, subsequently, jointly by the International Organization for Standardization (ISO) and the International Electrotechnical Commission (IEC).\n",
      "C is an imperative procedural language, supporting structured programming, lexical variable scope, and recursion, with a static type system. It was designed to be compiled to provide low-level access to memory and language constructs that map efficiently to machine instructions, all with minimal runtime support. Despite its low-level capabilities, the language was designed to encourage cross-platform programming. A standards-compliant C program written with portability in mind can be compiled for a wide variety of computer platforms and operating systems with few changes to its source code.\n",
      "Although neither C nor its standard library provide some popular features found in other languages, it is flexible enough to support them. For example, object orientation and garbage collection are provided by external libraries GLib Object System and Boehm garbage collector, respectively.\n",
      "Since 2000, C has consistently ranked among the top four languages in the TIOBE index, a measure of the popularity of programming languages.\n"
     ]
    }
   ],
   "source": [
    "from langchain_community.tools import WikipediaQueryRun\n",
    "from langchain_community.utilities import WikipediaAPIWrapper\n",
    "\n",
    "api_wrapper = WikipediaAPIWrapper()\n",
    "tool = WikipediaQueryRun(api_wrapper=api_wrapper, return_direct=True, verbose=True)\n",
    "print(tool.run({\"query\":\"LangGraph\"}))"
   ]
  },
  {
   "cell_type": "code",
   "execution_count": 7,
   "id": "ec01bb9c",
   "metadata": {},
   "outputs": [
    {
     "data": {
      "text/plain": [
       "\"['https://www.youtube.com/watch?v=465iEeNOEBg&pp=ygULY2FycnltaW5hdGk%3D', 'https://www.youtube.com/watch?v=d7sewLjzNs0&pp=ygULY2FycnltaW5hdGk%3D']\""
      ]
     },
     "execution_count": 7,
     "metadata": {},
     "output_type": "execute_result"
    }
   ],
   "source": [
    "from langchain_community.tools import YouTubeSearchTool\n",
    "\n",
    "tool2=YouTubeSearchTool()\n",
    "tool2.run(\"carryminati\")"
   ]
  },
  {
   "cell_type": "code",
   "execution_count": 8,
   "id": "798d6077",
   "metadata": {},
   "outputs": [],
   "source": [
    "\n",
    "from langchain_community.tools.tavily_search import TavilySearchResults"
   ]
  },
  {
   "cell_type": "code",
   "execution_count": 9,
   "id": "3a61913d",
   "metadata": {},
   "outputs": [
    {
     "name": "stderr",
     "output_type": "stream",
     "text": [
      "C:\\Users\\Aniruddha\\AppData\\Local\\Temp\\ipykernel_25960\\1442711075.py:1: LangChainDeprecationWarning: The class `TavilySearchResults` was deprecated in LangChain 0.3.25 and will be removed in 1.0. An updated version of the class exists in the :class:`~langchain-tavily package and should be used instead. To use it run `pip install -U :class:`~langchain-tavily` and import as `from :class:`~langchain_tavily import TavilySearch``.\n",
      "  tool = TavilySearchResults()\n"
     ]
    }
   ],
   "source": [
    "tool = TavilySearchResults()"
   ]
  },
  {
   "cell_type": "code",
   "execution_count": 10,
   "id": "b97a297e",
   "metadata": {},
   "outputs": [
    {
     "data": {
      "text/plain": [
       "[{'title': 'Burning Man hit with massive dust storms - Business Insider',\n",
       "  'url': 'https://www.businessinsider.com/burning-man-dust-storms-wind-rain-2025-8',\n",
       "  'content': \"It's not the first time the festival has been affected by the weather. 2023's Burning Man made headlines after heavy rains flooded the Playa. Generators broke down, tents collapsed, water systems failed, and the roads were impenetrable. Still, people raved, got married, and, eventually, burned down the effigy that gives the festival its name.\\n\\nThis year's weather isn't predicted to be as extreme, though rain is in the forecast throughout the week. Burners will undoubtedly party on. [...] ## Related stories\\n\\n### Business Insider tells the innovative stories you want to know\\n\\n### Business Insider tells the innovative stories you want to know\\n\\nOn Sunday, rain was added to the mix, leading to wet conditions that delayed entry to the festival.\\n\\nCrazy storms currently at Burning Man 2025. #foryou #foryoupage #trending #burningman #burningman2025 [...] But the images to come out of this year's festival, which officially kicked off on Sunday, show people caked in dust and mud as storms tore through the Playa, tearing apart camps and damaging the vehicles in the path of the scattered tarps and tent poles.\\n\\nOn Sunday and into Monday, traffic entering the gates of Black Rock City, the festival's makeshift locale, was halted. Burning Man's temporary airport paused operations on Sunday evening, when dozens of planes would typically land.\",\n",
       "  'score': 0.7295395},\n",
       " {'title': 'Burning Man 2025 started Sunday, August 24, and thousands of ...',\n",
       "  'url': 'https://www.facebook.com/abc7news/videos/heres-a-look-at-sf-mens-journey-to-black-rock-city-ahead-of-burning-man-on-sunda/1003796195096711/',\n",
       "  'content': 'Last year, attendance was down after the 2023 flooding and mud caused major problems. However, this year, they are expecting anywhere from',\n",
       "  'score': 0.48982134},\n",
       " {'title': 'Burning Man 2025 opens with risk of rain, flash floods, high winds',\n",
       "  'url': 'https://www.rgj.com/story/news/2025/08/24/burning-man-2025-opens-with-risk-of-rain-flash-floods-high-winds/85808130007/',\n",
       "  'content': 'The National Weather Service issued a flood watch on Sunday, the official first day of Burning Man, for the Black Rock Desert.',\n",
       "  'score': 0.42591617},\n",
       " {'title': 'Burners defend Burning Man after several days of ... - YouTube',\n",
       "  'url': 'https://www.youtube.com/watch?v=2ksYMt2RzyA',\n",
       "  'content': \"It's been a wild ride for those either at Burning Man 2025 or trying to get there. Windstorms, thunder, lightning, and rain have hampered\",\n",
       "  'score': 0.34786987},\n",
       " {'title': 'Severe Storms Smack The Burning Man Festival - YouTube',\n",
       "  'url': 'https://www.youtube.com/watch?v=DMS77IPzpxE',\n",
       "  'content': 'A strong dust storm slammed the Burning Man Festival on Sunday, ruining a good time for attendees with wind gusts reaching up to 50 mph.',\n",
       "  'score': 0.24622552}]"
      ]
     },
     "execution_count": 10,
     "metadata": {},
     "output_type": "execute_result"
    }
   ],
   "source": [
    "\n",
    "tool.invoke({\"query\": \"What happened in the latest burning man floods\"})"
   ]
  },
  {
   "cell_type": "markdown",
   "id": "04d0ed7c",
   "metadata": {},
   "source": [
    "### Create a custom tool"
   ]
  },
  {
   "cell_type": "code",
   "execution_count": 11,
   "id": "275b4900",
   "metadata": {},
   "outputs": [],
   "source": [
    "from langchain.agents import initialize_agent, tool\n",
    "\n",
    "@tool\n",
    "def get_word_length(word: str) -> str:\n",
    "    \"\"\"Custom tool that greets a person by name.\"\"\"\n",
    "    return len(word)"
   ]
  },
  {
   "cell_type": "code",
   "execution_count": 12,
   "id": "30d4f27b",
   "metadata": {},
   "outputs": [
    {
     "data": {
      "text/plain": [
       "5"
      ]
     },
     "execution_count": 12,
     "metadata": {},
     "output_type": "execute_result"
    }
   ],
   "source": [
    "get_word_length.invoke(\"abcde\")"
   ]
  },
  {
   "cell_type": "code",
   "execution_count": 13,
   "id": "df8f305c",
   "metadata": {},
   "outputs": [],
   "source": [
    "@tool\n",
    "def multiply(a:int, b:int) -> int:\n",
    "    \"\"\"\n",
    "    Multiplying the numbers\n",
    "    \"\"\"\n",
    "    return a*b"
   ]
  },
  {
   "cell_type": "code",
   "execution_count": 14,
   "id": "89232c54",
   "metadata": {},
   "outputs": [],
   "source": [
    "@tool\n",
    "def summation(a:int, b:int) -> int:\n",
    "    \"\"\"\n",
    "    sum the numbers\n",
    "    \"\"\"\n",
    "    return a+b"
   ]
  },
  {
   "cell_type": "code",
   "execution_count": 15,
   "id": "601d9d7a",
   "metadata": {},
   "outputs": [
    {
     "name": "stdout",
     "output_type": "stream",
     "text": [
      "multiply\n",
      "Multiplying the numbers\n",
      "{'a': {'title': 'A', 'type': 'integer'}, 'b': {'title': 'B', 'type': 'integer'}}\n"
     ]
    }
   ],
   "source": [
    "print(multiply.name)\n",
    "print(multiply.description)\n",
    "print(multiply.args)"
   ]
  },
  {
   "cell_type": "code",
   "execution_count": 16,
   "id": "5a594265",
   "metadata": {},
   "outputs": [
    {
     "data": {
      "text/plain": [
       "12"
      ]
     },
     "execution_count": 16,
     "metadata": {},
     "output_type": "execute_result"
    }
   ],
   "source": [
    "summation.invoke({\"a\":5,\"b\":7})"
   ]
  },
  {
   "cell_type": "markdown",
   "id": "a8f58b51",
   "metadata": {},
   "source": [
    "## This is first version of langchain (Legacy now)"
   ]
  },
  {
   "cell_type": "code",
   "execution_count": 17,
   "id": "9abac343",
   "metadata": {},
   "outputs": [],
   "source": [
    "from langchain.agents import initialize_agent, Tool\n",
    "from langchain.agents import load_tools\n",
    "from langchain.agents import AgentType"
   ]
  },
  {
   "cell_type": "code",
   "execution_count": 18,
   "id": "8d571614",
   "metadata": {},
   "outputs": [],
   "source": [
    "tool=load_tools([\"wikipedia\"], llm_groq)"
   ]
  },
  {
   "cell_type": "code",
   "execution_count": 19,
   "id": "cad4cf42",
   "metadata": {},
   "outputs": [
    {
     "name": "stderr",
     "output_type": "stream",
     "text": [
      "C:\\Users\\Aniruddha\\AppData\\Local\\Temp\\ipykernel_25960\\1463107220.py:1: LangChainDeprecationWarning: LangChain agents will continue to be supported, but it is recommended for new use cases to be built with LangGraph. LangGraph offers a more flexible and full-featured framework for building agents, including support for tool-calling, persistence of state, and human-in-the-loop workflows. For details, refer to the `LangGraph documentation <https://langchain-ai.github.io/langgraph/>`_ as well as guides for `Migrating from AgentExecutor <https://python.langchain.com/docs/how_to/migrate_agent/>`_ and LangGraph's `Pre-built ReAct agent <https://langchain-ai.github.io/langgraph/how-tos/create-react-agent/>`_.\n",
      "  agent=initialize_agent(tool, llm_groq, agent=AgentType.CHAT_ZERO_SHOT_REACT_DESCRIPTION, verbose=True)\n"
     ]
    }
   ],
   "source": [
    "agent=initialize_agent(tool, llm_groq, agent=AgentType.CHAT_ZERO_SHOT_REACT_DESCRIPTION, verbose=True)"
   ]
  },
  {
   "cell_type": "code",
   "execution_count": 20,
   "id": "f2d8bdb8",
   "metadata": {},
   "outputs": [
    {
     "name": "stderr",
     "output_type": "stream",
     "text": [
      "C:\\Users\\Aniruddha\\AppData\\Local\\Temp\\ipykernel_25960\\1784789019.py:1: LangChainDeprecationWarning: The method `Chain.run` was deprecated in langchain 0.1.0 and will be removed in 1.0. Use :meth:`~invoke` instead.\n",
      "  agent.run(\"what is Lamma model\")\n"
     ]
    },
    {
     "name": "stdout",
     "output_type": "stream",
     "text": [
      "\n",
      "\n",
      "\u001b[1m> Entering new AgentExecutor chain...\u001b[0m\n",
      "\u001b[32;1m\u001b[1;3mQuestion: what is Lamma model\n",
      "Thought: The Llama model is likely related to artificial intelligence, so I should search for information about it on Wikipedia.\n",
      "Action:\n",
      "```\n",
      "{\n",
      "  \"action\": \"wikipedia\",\n",
      "  \"action_input\": \"Llama model\"\n",
      "}\n",
      "```\n",
      "\u001b[0m\n",
      "Observation: \u001b[36;1m\u001b[1;3mPage: Llama (language model)\n",
      "Summary: Llama (Large Language Model Meta AI) is a family of large language models (LLMs) released by Meta AI starting in February 2023. The latest version is Llama 4, released in April 2025.\n",
      "Llama models come in different sizes, ranging from 1 billion to 2 trillion parameters. Initially only a foundation model, starting with Llama 2, Meta AI released instruction fine-tuned versions alongside foundation models.\n",
      "Model weights for the first version of Llama were only available to researchers on a case-by-case basis, under a non-commercial license. Unauthorized copies of the first model were shared via BitTorrent. Subsequent versions of Llama were made accessible outside academia and released under licenses that permitted some commercial use.\n",
      "Alongside the release of Llama 3, Meta added virtual assistant features to Facebook and WhatsApp in select regions, and a standalone website. Both services use a Llama 3 model.\n",
      "\n",
      "Page: Llama.cpp\n",
      "Summary: llama.cpp is an open source software library that performs inference on various large language models such as Llama. It is co-developed alongside the GGML project, a general-purpose tensor library.\n",
      "Command-line tools are included with the library, alongside a server with a simple web interface.\n",
      "\n",
      "Page: Llama Firearms\n",
      "Summary: Llama Firearms, officially known as  Llama-Gabilondo y Cia SA, was a Spanish arms company founded in 1904 under the name Gabilondo and Urresti. Its headquarters were in Eibar in the Basque Country, Spain, but they also had workshops during different times in Elgoibar and Vitoria. The company manufactured  moderate-priced revolvers and  self-chambering pistols in a wide variety of models. These were popular mainly in the European and Latin American export market, as well as domestically in Spain.\u001b[0m\n",
      "Thought:\u001b[32;1m\u001b[1;3mBased on the information from Wikipedia, it seems that the term \"Llama model\" can refer to different things, including a family of large language models (LLMs) released by Meta AI, an open source software library for performing inference on large language models, and a Spanish arms company that manufactured firearms. However, given the context of the question, it is likely that the question is referring to the Llama model in the context of artificial intelligence.\n",
      "\n",
      "The Llama model in this context refers to a family of large language models developed by Meta AI, with different sizes ranging from 1 billion to 2 trillion parameters. The models are designed to process and generate human-like language, and have been released in various versions, including foundation models and instruction fine-tuned models.\n",
      "\n",
      "To provide a more specific answer to the question, I would like to know more about the context in which the term \"Llama model\" is being used. However, based on the information available, I can provide a general description of the Llama model as a type of large language model developed by Meta AI.\n",
      "\n",
      "Final Answer: The Llama model is a family of large language models developed by Meta AI, designed to process and generate human-like language, with different sizes ranging from 1 billion to 2 trillion parameters.\u001b[0m\n",
      "\n",
      "\u001b[1m> Finished chain.\u001b[0m\n"
     ]
    },
    {
     "data": {
      "text/plain": [
       "'The Llama model is a family of large language models developed by Meta AI, designed to process and generate human-like language, with different sizes ranging from 1 billion to 2 trillion parameters.'"
      ]
     },
     "execution_count": 20,
     "metadata": {},
     "output_type": "execute_result"
    }
   ],
   "source": [
    "agent.run(\"what is Lamma model\")"
   ]
  },
  {
   "cell_type": "code",
   "execution_count": 21,
   "id": "166ea226",
   "metadata": {},
   "outputs": [],
   "source": [
    "from langchain_community.tools.tavily_search import TavilySearchResults"
   ]
  },
  {
   "cell_type": "code",
   "execution_count": 22,
   "id": "d7722048",
   "metadata": {},
   "outputs": [],
   "source": [
    "search=TavilySearchResults()"
   ]
  },
  {
   "cell_type": "code",
   "execution_count": 23,
   "id": "2494054f",
   "metadata": {},
   "outputs": [
    {
     "name": "stdout",
     "output_type": "stream",
     "text": [
      "[TavilySearchResults(api_wrapper=TavilySearchAPIWrapper(tavily_api_key=SecretStr('**********')))]\n"
     ]
    }
   ],
   "source": [
    "tools=[search]\n",
    "print(tools)"
   ]
  },
  {
   "cell_type": "code",
   "execution_count": 24,
   "id": "3ebffe4a",
   "metadata": {},
   "outputs": [
    {
     "data": {
      "text/plain": [
       "[{'title': 'Bengaluru weather update: Moderate rain and improved air quality ...',\n",
       "  'url': 'https://timesofindia.indiatimes.com/city/bengaluru/bangalore-weather-update-moderate-rain-and-cool-temperatures-expected/articleshow/124681011.cms',\n",
       "  'content': \"Bengaluru residents can expect moderate rainfall throughout Saturday, October 19, 2025, with temperatures ranging between 20.5°C and 26.2°C.The city's air quality index stood at 53 yesterday, categorized as 'moderate,' while today's forecast indicates a 96% chance of rain with humidity levels at 85% and wind speeds reaching 16.6 km/h.\\n\\nYou Can Also Check: Bengaluru AQI | Weather in Bengaluru | Gold Rate Today in Bengaluru | Silver Rate Today in Bengaluru [...] Bangalore is set for a wet Saturday, October 19, 2025, with moderate rain and cool temperatures ranging from 20.5°C to 26.2°C. High humidity will persist, and a 96% chance of rain necessitates an umbrella. Yesterday's moderate AQI of 53, a cleaner day, could see further improvement with today's downpour. [...] Bangalore is set for a wet Saturday, October 19, 2025, with moderate rain and cool temperatures ranging from 20.5°C to 26.2°C. High humidity will persist, and a 96% chance of rain necessitates an umbrella. Yesterday's moderate AQI of 53, a cleaner day, could see further improvement with today's downpour.\\n\\n### Current Weather and Air Quality\",\n",
       "  'score': 0.964298},\n",
       " {'title': 'Bengaluru October 2025 Historical Weather Data (Karnataka, India)',\n",
       "  'url': 'https://weatherspark.com/h/m/108998/2025/10/Historical-Weather-in-October-2025-in-Bengaluru-Karnataka-India',\n",
       "  'content': '| 200020102020  2016201720182019202020212022202320242025  SpringSummerFallWinter  JanFebMarAprMayJunJulAugSepOctNovDec  12345678910111213141516171819202122232425262728293031 October 2025 Weather History in Bengaluru Karnataka, India The data for this report comes from the Kempegowda International Airport. See all nearby weather stations  Latest Report — 9:30 AM Sun, Oct 19, 2025    35 min ago    UTC 04:00  Call Sign VOBL  Temp.  73°F comfortable   |  |  |  --- | | Dew Pt. | 68°F  muggy | | Rel. [...] Humidity | 83% |  Precipitation  No Report  Wind  4.6 mph light breeze   |  |  |  --- | | Wind Dir. | 90 deg, E |  Cloud Cover  Mostly Cloudy   8,000 ft   |  |  | Partly Cloudy 800 ft | | Partly Cloudy 1,200 ft |   |  |  |  --- | | Vis. | 3.73 mi | | Alt. | 30.00 inHg |  Raw: VOBL 190400Z 09004KT 6000 SCT008 SCT012 BKN080 23/20 Q1016 NOSIG  This report shows the past weather for Bengaluru, providing a weather history for October 2025. It features all historical weather data series we have [...] mi | | 19 |  | 5% | 4:17 AM | E | 4:35 PM | W  10:26 AM | S | 247,963 mi | | 20 |  | 2% | 5:03 AM | E | 5:10 PM | W  11:06 AM | S | 249,617 mi | | 21 |  | 0% | 5:49 AM | ESE | 5:45 PM | WSW  11:47 AM | S | 250,938 mi | | 22 |  | 1% | 6:36 AM | ESE | 6:23 PM | WSW  12:29 PM | S | 251,899 mi | | 23 |  | 3% | 7:25 AM | ESE | 7:04 PM | WSW  1:14 PM | S | 252,449 mi | | 24 |  | 7% | 8:16 AM | ESE | 7:48 PM | WSW  2:01 PM | S | 252,517 mi | | 25 |  | 13% | 9:08 AM | ESE | 8:36 PM | WSW  2:52 PM | S |',\n",
       "  'score': 0.93265617},\n",
       " {'title': 'Bangalore weather in October 2025 - Weather25.com',\n",
       "  'url': 'https://www.weather25.com/asia/india/karnataka/bangalore?page=month&month=October',\n",
       "  'content': '| 19 Image 46: Light rain shower 78°/68° | 20 Image 47: Light rain shower 78°/66° | 21 Image 48: Light rain shower 78°/66° | 22 Image 49: Light rain shower 77°/66° | 23 Image 50: Light rain shower 77°/68° | 24 Image 51: Patchy rain possible 77°/68° | 25 Image 52: Patchy rain possible 78°/68° | [...] Sunday Oct 19 Image 8: Light rain shower 0.18 in 78°/68°Monday Oct 20 Image 9: Light rain shower 0.35 in 78°/66°Tuesday Oct 21 Image 10: Light rain shower 0.05 in 78°/66°Wednesday Oct 22 Image 11: Light rain shower 0.23 in 77°/66°Thursday Oct 23 Image 12: Light rain shower 0.22 in 77°/68°Friday Oct 24 Image 13: Patchy rain possible 0.04 in 77°/68°Saturday Oct 25 Image 14: Patchy rain possible 0 in 78°/68°Sunday Oct 26 Image 15: Patchy rain possible 0.09 in 78°/66°Monday Oct 27 Image 16: Sunny 0 [...] The average weather in Bangalore in October\\n\\nThe temperatures in Bangalore in October are comfortable with low of 66°F and and high up to 82°F.\\n\\nYou can expect rain for roughly half of the month of October in Bangalore. We’re expecting roughly 8 to 15 days of rain, so your rubber boots and umbrella are going to see plenty of use this month if you’re keen on staying dry.\\n\\nOur weather forecast can give you a great sense of what weather to expect in Bangalore in October 2025.',\n",
       "  'score': 0.91362286},\n",
       " {'title': 'Weather in Bengaluru in October 2025 - Detailed Forecast',\n",
       "  'url': 'https://www.easeweather.com/asia/india/karnataka/bangalore-urban/bengaluru/october',\n",
       "  'content': 'Until now, October 2025 in Bengaluru has been nearly identical to the historical average, with a temperature of 26.4°C (showing only a slight deviation of -0.2°C).\\n\\n   The forecast for the next days in Bengaluru predicts temperatures to be around 26°C, close to the historical average.\\n\\n   In general, the average temperature in Bengaluru at the beginning of October is 27°C. As the month progressed, temperatures tended to moderately fall, reaching an average of 25.9°C by the end of October. [...] | 13 Image 22: Sunny 27° | 14 Image 23: Partly cloudy 26° | 15 Image 24: Partly cloudy 26° | 16 Image 25: Patchy rain possible 25° | 17 Image 26: Patchy rain possible 26° | 18 Image 27: Patchy rain possible 27° | 19 Image 28: Moderate rain 26° |\\n| 20 Image 29: Patchy rain possible 27° | 21 Image 30: Moderate rain 26° | 22 Image 31: Patchy rain possible 24° | 23 Image 32: Partly cloudy 24° | 24 Image 33: Patchy rain possible 27° | 25 Image 34: Partly cloudy 27° | 26 Image 35: Sunny 27° | [...] ### Rain 🌧️\\n\\n   Bengaluru experiences heavy rainfall in October, with over 20 rainy days and an average total precipitation 205.9 mm.\\n\\nImage 3: Average dry days\\n\\n5\\n\\nDry days\\n\\nImage 4: Average rainy days\\n\\n26\\n\\nRainy days\\n\\nImage 5: Average snowy days\\n\\n0\\n\\nSnow days\\n\\nImage 6: Average temperatures\\n\\n27°/19°\\n\\nTemperatures\\n\\nImage 7: Average wind speed\\n\\n14 km/h\\n\\nAvg max wind\\n\\nImage 8: Average humidity\\n\\n73%\\n\\nAvg humidity\\n\\nImage 9: Share\\nBengaluru Weather October\\n\\nMove between months or click on a day',\n",
       "  'score': 0.9067276},\n",
       " {'title': 'Weather in Bangalore in October 2025 (State of Karnātaka)',\n",
       "  'url': 'https://world-weather.info/forecast/india/bangalor/october-2025/',\n",
       "  'content': \"Weather\\n Archive\\n Weather Widget\\n\\n World\\n India\\n State of Karnātaka\\n Weather in Bangalore\\n\\n# Weather in Bangalore in October 2025\\n\\nBangalore Weather Forecast for October 2025, is based on previous years' statistical data.\\n\\nJanFebMarAprMayJunJulAugSepOctNovDec\\n\\n  \\n\\n## October\\n\\nStart Week On\\n\\n Sun\\n Mon\\n Tue\\n Wed\\n Thu\\n Fri\\n Sat\\n\\n +82°\\n\\n  4.7 mph S 26.9 inHg69 %06:08 am06:09 pm\\n 2\\n\\n  +82°\\n\\n  +73°\\n\\n  4 mph W 26.9 inHg66 %06:08 am06:09 pm\\n 3\\n\\n  +84°\\n\\n  +73° [...] Chennai+91°\\n\\nDindigul+93°\\n\\nThanjavur+99°\\n\\nMangalore+82°\\n\\nNellore+93°\\n\\nTiruchchirāppalli+97°\\n\\nPuducherry+95°\\n\\nBellary+88°\\n\\nMysore+81°\\n\\nSalem+88°\\n\\nAnantapur+88°\\n\\nTirupati+90°\\n\\nPynampuram+93°\\n\\nJari Gadda+90°\\n\\nMinimum and maximum  \\nworld's temperature today\\n\\nBolivia  \\nUyuni\\n\\nday\\n:   +55°F\\n\\nnight\\n:   +19°F\\n\\nSaudi Arabia  \\nAţ Ţaraf\\n\\nday\\n:   +115°F\\n\\nnight\\n:   +88°F\\n\\nWeather forecast on your site\\n\\nBangalore\\n\\n+81°\\n\\nTemperature units\\n\\n°F°C [...] +82°\\n\\n  +70°\\n\\n  4 mph NE 26.9 inHg60 %06:11 am05:54 pm\\n 28\\n\\n  +84°\\n\\n  +72°\\n\\n  4.5 mph NE 26.9 inHg56 %06:12 am05:54 pm\\n 29\\n\\n  +81°\\n\\n  +70°\\n\\n  4.5 mph NE 26.9 inHg63 %06:12 am05:54 pm\\n 30\\n\\n  +82°\\n\\n  +70°\\n\\n  4.5 mph E 26.9 inHg66 %06:12 am05:53 pm\\n 31\\n\\n  +81°\\n\\n  +70°\\n\\n  4 mph NE 26.9 inHg66 %06:12 am05:53 pm\\n\\n  \\n\\n## Extended weather forecast in Bangalore\\n\\nHourlyWeek10-Day14-Day30-DayYear\\n\\n## Weather in large and nearby cities\\n\\nWeather in New Delhi+86°\\n\\nAvadi+91°\\n\\nKozhikode+86°\\n\\nAmbattur+91°\",\n",
       "  'score': 0.8858788}]"
      ]
     },
     "execution_count": 24,
     "metadata": {},
     "output_type": "execute_result"
    }
   ],
   "source": [
    "search.invoke(\"what is the weather in bangalore\")"
   ]
  },
  {
   "cell_type": "code",
   "execution_count": 25,
   "id": "1674bc0c",
   "metadata": {},
   "outputs": [],
   "source": [
    "from langchain import hub"
   ]
  },
  {
   "cell_type": "code",
   "execution_count": 26,
   "id": "f306d425",
   "metadata": {},
   "outputs": [],
   "source": [
    "prompt= hub.pull(\"hwchase17/openai-functions-agent\")"
   ]
  },
  {
   "cell_type": "code",
   "execution_count": 27,
   "id": "77f161a0",
   "metadata": {},
   "outputs": [
    {
     "data": {
      "text/plain": [
       "[SystemMessagePromptTemplate(prompt=PromptTemplate(input_variables=[], input_types={}, partial_variables={}, template='You are a helpful assistant'), additional_kwargs={}),\n",
       " MessagesPlaceholder(variable_name='chat_history', optional=True),\n",
       " HumanMessagePromptTemplate(prompt=PromptTemplate(input_variables=['input'], input_types={}, partial_variables={}, template='{input}'), additional_kwargs={}),\n",
       " MessagesPlaceholder(variable_name='agent_scratchpad')]"
      ]
     },
     "execution_count": 27,
     "metadata": {},
     "output_type": "execute_result"
    }
   ],
   "source": [
    "prompt.messages"
   ]
  },
  {
   "cell_type": "code",
   "execution_count": 28,
   "id": "b0a9d5a4",
   "metadata": {},
   "outputs": [],
   "source": [
    "from langchain.agents import create_tool_calling_agent\n",
    "\n",
    "agent= create_tool_calling_agent(llm_groq, tools, prompt)"
   ]
  },
  {
   "cell_type": "code",
   "execution_count": 29,
   "id": "c0e151ab",
   "metadata": {},
   "outputs": [],
   "source": [
    "from langchain.agents import AgentExecutor\n",
    "agent_executor=AgentExecutor(agent=agent, tools=tools, verbose=True)"
   ]
  },
  {
   "cell_type": "code",
   "execution_count": 30,
   "id": "0fc2843f",
   "metadata": {},
   "outputs": [
    {
     "name": "stdout",
     "output_type": "stream",
     "text": [
      "\n",
      "\n",
      "\u001b[1m> Entering new AgentExecutor chain...\u001b[0m\n",
      "\u001b[32;1m\u001b[1;3m\n",
      "Invoking: `tavily_search_results_json` with `{'query': 'LangGraph Wikipedia'}`\n",
      "\n",
      "\n",
      "\u001b[0m\u001b[36;1m\u001b[1;3m[{'title': 'Learn LangGraph basics - Overview', 'url': 'https://langchain-ai.github.io/langgraph/concepts/why-langgraph/', 'content': 'Trusted by companies shaping the future of agents— including Klarna, Replit, Elastic, and more— LangGraph is a low-level orchestration framework and runtime for building, managing, and deploying long-running, stateful agents.\\nLangGraph is very low-level, and focused entirely on agent orchestration. Before using LangGraph, we recommend you familiarize yourself with some of the components used to build agents, starting with models and tools.', 'score': 0.8536326}, {'title': 'What is LangGraph? - GeeksforGeeks', 'url': 'https://www.geeksforgeeks.org/machine-learning/what-is-langgraph/', 'content': '# What is LangGraph?\\n\\nLast Updated : \\n10 Oct, 2025\\n\\nSuggest changes\\n\\n1 Likes\\n\\nLangGraph is an open-source framework built by LangChain that streamlines the creation and management of AI agent workflows. At its core, LangGraph combines large language models (LLMs) with graph-based architectures allowing developers to map, organize and optimize how AI agents interact and make decisions. [...] langgraph: Framework for building graph-based AI workflows.\\n langchain: Popular toolkit for LLM-powered AI applications.\\n google-generativeai: Google’s API for Generative AI (Gemini models).\\n\\nPython\\n\\n````\\n!pip install langgraph langchain google-generativeai\\n\\n````\\n\\n### Step 2: Setup Gemini API\\n\\nWe will : [...] LangSmith: LangSmith is a dedicated API for managing large language models (LLMs). Provides functions for initializing LLMs, creating conditional logic and optimizing performance.', 'score': 0.82560414}, {'title': 'LangGraph Tutorial: What Is LangGraph and How to Use It?', 'url': 'https://www.datacamp.com/tutorial/langgraph-tutorial', 'content': \"Imagine you're building a complex, multi-agent large language model (LLM) application. It's exciting, but it comes with challenges: managing the state of various agents, coordinating their interactions, and handling errors effectively. This is where LangGraph can help.\\n\\nLangGraph is a library within the LangChain ecosystem designed to tackle these challenges head-on. LangGraph provides a framework for defining, coordinating, and executing multiple LLM agents (or chains) in a structured manner. [...] # LangGraph Tutorial: What Is LangGraph and How to Use It?\\n\\nLangGraph is a library within the LangChain ecosystem that provides a framework for defining, coordinating, and executing multiple LLM agents (or chains) in a structured and efficient manner.\\n\\nJun 26, 2024  · 12 min read [...] For applications requiring autonomous decision-making, LangGraph enables the creation of agents that can perform tasks independently based on user inputs and predefined logic.\\n\\nThese agents can execute complex workflows, interact with other systems, and adapt to new information dynamically. LangGraph's structured framework ensures that each agent operates efficiently and effectively, making it suitable for tasks like automated customer support, data processing, and system monitoring.\", 'score': 0.7827459}, {'title': \"Introduction to LangGraph: A Beginner's Guide - Medium\", 'url': 'https://medium.com/@cplog/introduction-to-langgraph-a-beginners-guide-14f9be027141', 'content': 'LangGraph is a powerful tool for building stateful, multi-actor applications with Large Language Models (LLMs). It extends the LangChain library, allowing you to coordinate multiple chains (or actors) across multiple steps of computation in a cyclic manner. In this article, we’ll introduce LangGraph, walk you through its basic concepts, and share some insights and common points of confusion for beginners.\\n\\n## What is LangGraph? [...] LangGraph is a library built on top of LangChain, designed to add cyclic computational capabilities to your LLM applications. While LangChain allows you to define chains of computation (Directed Acyclic Graphs or DAGs), LangGraph introduces the ability to add cycles, enabling more complex, agent-like behaviors where you can call an LLM in a loop, asking it what action to take next.\\n\\n## Key Concepts [...] Stateful Graph: LangGraph revolves around the concept of a stateful graph, where each node in the graph represents a step in your computation, and the graph maintains a state that is passed around and updated as the computation progresses.\\n Nodes: Nodes are the building blocks of your LangGraph. Each node represents a function or a computation step. You define nodes to perform specific tasks, such as processing input, making decisions, or interacting with external APIs.', 'score': 0.741169}, {'title': 'What is LangGraph? - IBM', 'url': 'https://www.ibm.com/think/topics/langgraph', 'content': '. The chatbot learns to respond to minimal user input and tailor recommendations. Currently, services such as Google’s Duplex are using LangGraph in a similar fashion to mimic human-like conversations.\\n\\nAgent systems: LangGraph provides a framework for building agent-based systems, which can be used in applications such as robotics, autonomous vehicles or video games. [...] LangGraph illuminates the processes within an AI workflow, allowing full transparency of the agent’s state. Within LangGraph, the “state” feature serves as a memory bank that records and tracks all the valuable information processed by the AI system. It’s similar to a digital notebook where the system captures and updates data as it moves through various stages of a workflow or graph analysis. [...] LangGraph is also built on several key technologies, including LangChain, a Python framework for building AI applications. LangChain includes a library for building and managing LLMs. LangGraph also uses the human-in-the-loop approach. By combining these technologies with a set of APIs and tools, LangGraph provides users with a versatile platform for developing AI solutions and workflows including chatbots, state graphs and other agent-based systems.', 'score': 0.69274646}]\u001b[0m\u001b[32;1m\u001b[1;3mLangGraph is a low-level orchestration framework and runtime for building, managing, and deploying long-running, stateful agents. It is an open-source framework built by LangChain that streamlines the creation and management of AI agent workflows. LangGraph combines large language models (LLMs) with graph-based architectures, allowing developers to map, organize, and optimize how AI agents interact and make decisions. It provides a framework for defining, coordinating, and executing multiple LLM agents (or chains) in a structured manner, enabling the creation of agents that can perform tasks independently based on user inputs and predefined logic. LangGraph is suitable for tasks like automated customer support, data processing, and system monitoring.\u001b[0m\n",
      "\n",
      "\u001b[1m> Finished chain.\u001b[0m\n"
     ]
    },
    {
     "data": {
      "text/plain": [
       "{'input': 'Find me the Wikipedia page for LangGraph and tell me what it is about',\n",
       " 'output': 'LangGraph is a low-level orchestration framework and runtime for building, managing, and deploying long-running, stateful agents. It is an open-source framework built by LangChain that streamlines the creation and management of AI agent workflows. LangGraph combines large language models (LLMs) with graph-based architectures, allowing developers to map, organize, and optimize how AI agents interact and make decisions. It provides a framework for defining, coordinating, and executing multiple LLM agents (or chains) in a structured manner, enabling the creation of agents that can perform tasks independently based on user inputs and predefined logic. LangGraph is suitable for tasks like automated customer support, data processing, and system monitoring.'}"
      ]
     },
     "execution_count": 30,
     "metadata": {},
     "output_type": "execute_result"
    }
   ],
   "source": [
    "agent_executor.invoke({\"input\":\"Find me the Wikipedia page for LangGraph and tell me what it is about\"})"
   ]
  },
  {
   "cell_type": "markdown",
   "id": "a5b48595",
   "metadata": {},
   "source": [
    "1. RAG tool\n",
    "2. ReAct\n",
    "3. custom tool with ReAct agent\n",
    "4. agent code from latest versions(v0.2 and v0.3)"
   ]
  },
  {
   "cell_type": "code",
   "execution_count": 31,
   "id": "d2856cdb",
   "metadata": {},
   "outputs": [
    {
     "name": "stderr",
     "output_type": "stream",
     "text": [
      "USER_AGENT environment variable not set, consider setting it to identify your requests.\n"
     ]
    }
   ],
   "source": [
    "from langchain_community.document_loaders import WebBaseLoader\n",
    "from langchain_community.vectorstores import FAISS\n",
    "from langchain_text_splitters import RecursiveCharacterTextSplitter"
   ]
  },
  {
   "cell_type": "code",
   "execution_count": 32,
   "id": "3d1cee3d",
   "metadata": {},
   "outputs": [],
   "source": [
    "loader = WebBaseLoader(\"https://docs.smith.langchain.com/overview\")\n",
    "docs = loader.load()"
   ]
  },
  {
   "cell_type": "code",
   "execution_count": 33,
   "id": "2ad81b9e",
   "metadata": {},
   "outputs": [],
   "source": [
    "documents = RecursiveCharacterTextSplitter(\n",
    "    chunk_size=1000, chunk_overlap=200\n",
    ").split_documents(docs)"
   ]
  },
  {
   "cell_type": "code",
   "execution_count": 34,
   "id": "a8867eba",
   "metadata": {},
   "outputs": [],
   "source": [
    "vector = FAISS.from_documents(documents,embeddings)\n",
    "retriever = vector.as_retriever()"
   ]
  },
  {
   "cell_type": "code",
   "execution_count": 35,
   "id": "20ec398c",
   "metadata": {},
   "outputs": [
    {
     "data": {
      "text/plain": [
       "Document(id='56bfd743-5992-4a81-bf55-ec6623ad34df', metadata={'source': 'https://docs.smith.langchain.com/overview', 'title': 'LangSmith docs - Docs by LangChain', 'language': 'en'}, page_content='Copy the key and save it securely.\\nOnce your account and API key are ready, choose a quickstart to begin building with LangSmith:\\nObservabilityGain visibility into every step your application takes to debug faster and improve reliability.Start tracingEvaluationMeasure and track quality over time to ensure your AI applications are consistent and trustworthy.Evaluate your appDeploymentDeploy your agents as LangGraph Servers, ready to scale in production.Deploy your agentsPrompt TestingIterate on prompts with built-in versioning and collaboration to ship improvements faster.Test your promptsStudioUse a visual interface to design, test, and refine applications end-to-end.Develop with StudioHostingHost LangSmith in the cloud, in your environment, or hybrid to match your infrastructure and compliance needs.Choose your hosting mode\\n\\u200bWorkflow\\nLangSmith combines observability, evaluation, deployment, and hosting in one integrated workflow—from local development to production.')"
      ]
     },
     "execution_count": 35,
     "metadata": {},
     "output_type": "execute_result"
    }
   ],
   "source": [
    "retriever.invoke(\"how to upload a dataset\")[0]"
   ]
  },
  {
   "cell_type": "code",
   "execution_count": 36,
   "id": "a42978ea",
   "metadata": {},
   "outputs": [],
   "source": [
    "from langchain.tools.retriever import create_retriever_tool\n",
    "retriever_tool = create_retriever_tool(\n",
    "    retriever,\n",
    "    \"langsmith_search\",\n",
    "    \"Search for information about LangSmith. For any questions about LangSmith, you must use this tool!\",\n",
    ")"
   ]
  },
  {
   "cell_type": "code",
   "execution_count": 37,
   "id": "e6507478",
   "metadata": {},
   "outputs": [],
   "source": [
    "tools=[search, retriever_tool]"
   ]
  },
  {
   "cell_type": "code",
   "execution_count": 38,
   "id": "02dea766",
   "metadata": {},
   "outputs": [],
   "source": [
    "from langchain.agents import create_tool_calling_agent\n",
    "\n",
    "agent = create_tool_calling_agent(llm_groq, tools, prompt)"
   ]
  },
  {
   "cell_type": "code",
   "execution_count": 39,
   "id": "6ac0f35a",
   "metadata": {},
   "outputs": [],
   "source": [
    "from langchain.agents import AgentExecutor\n",
    "\n",
    "agent_executor = AgentExecutor(agent=agent, tools=tools, verbose=True)"
   ]
  },
  {
   "cell_type": "code",
   "execution_count": 42,
   "id": "a82b85bd",
   "metadata": {},
   "outputs": [
    {
     "name": "stdout",
     "output_type": "stream",
     "text": [
      "\n",
      "\n",
      "\u001b[1m> Entering new AgentExecutor chain...\u001b[0m\n",
      "\u001b[32;1m\u001b[1;3m\n",
      "Invoking: `langsmith_search` with `{'query': 'LangGraph definition'}`\n",
      "\n",
      "\n",
      "\u001b[0m\u001b[33;1m\u001b[1;3mLangSmith docs - Docs by LangChainSkip to main contentLangGraph Platform is now part of LangSmith. Check out the Changelog for more information.Docs by LangChain home pageLangSmithSearch...⌘KGitHubTry LangSmithTry LangSmithSearch...NavigationLangSmith docsGet startedObservabilityEvaluationPrompt engineeringDeploymentHostingOverviewPlansCreate an account and API keyAccount administrationOverviewSet up a workspaceManage organizations using the APIManage billingSet up resource tagsUser managementReferenceLangSmith Python SDKLangSmith JS/TS SDKLangGraph Python SDKLangGraph JS/TS SDKLangSmith APILangGraph Server APIControl Plane API for LangSmith DeploymentAdditional resourcesReleases & changelogsData managementAuthentication methodsFAQsRegions FAQPricing FAQLangSmith docsCopy pageCopy pageLangSmith provides tools for developing, debugging, and deploying LLM applications.\n",
      "It helps you trace requests, evaluate outputs, test prompts, and manage deployments in one place.\n",
      "\n",
      "It helps you trace requests, evaluate outputs, test prompts, and manage deployments in one place.\n",
      "LangSmith is framework agnostic, so you can use it with or without LangChain’s open-source libraries\n",
      "langchain and langgraph.\n",
      "Prototype locally, then move to production with integrated monitoring and evaluation to build more reliable AI systems.\n",
      "​Get started\n",
      "Create an accountSign up at smith.langchain.com (no credit card required).\n",
      "You can log in with Google, GitHub, or email.Create an API keyGo to your Settings page → API Keys → Create API Key.\n",
      "Copy the key and save it securely.\n",
      "Once your account and API key are ready, choose a quickstart to begin building with LangSmith:\n",
      "\n",
      "Copy the key and save it securely.\n",
      "Once your account and API key are ready, choose a quickstart to begin building with LangSmith:\n",
      "ObservabilityGain visibility into every step your application takes to debug faster and improve reliability.Start tracingEvaluationMeasure and track quality over time to ensure your AI applications are consistent and trustworthy.Evaluate your appDeploymentDeploy your agents as LangGraph Servers, ready to scale in production.Deploy your agentsPrompt TestingIterate on prompts with built-in versioning and collaboration to ship improvements faster.Test your promptsStudioUse a visual interface to design, test, and refine applications end-to-end.Develop with StudioHostingHost LangSmith in the cloud, in your environment, or hybrid to match your infrastructure and compliance needs.Choose your hosting mode\n",
      "​Workflow\n",
      "LangSmith combines observability, evaluation, deployment, and hosting in one integrated workflow—from local development to production.\n",
      "\n",
      "Edit the source of this page on GitHubWas this page helpful?YesNoPricing plansNext⌘IDocs by LangChain home pagegithubxlinkedinyoutubeResourcesForumChangelogLangChain AcademyTrust CenterCompanyAboutCareersBloggithubxlinkedinyoutubePowered by Mintlify\u001b[0m\u001b[32;1m\u001b[1;3m\n",
      "Invoking: `langsmith_search` with `{'query': 'What is a LangGraph'}`\n",
      "\n",
      "\n",
      "\u001b[0m\u001b[33;1m\u001b[1;3mLangSmith docs - Docs by LangChainSkip to main contentLangGraph Platform is now part of LangSmith. Check out the Changelog for more information.Docs by LangChain home pageLangSmithSearch...⌘KGitHubTry LangSmithTry LangSmithSearch...NavigationLangSmith docsGet startedObservabilityEvaluationPrompt engineeringDeploymentHostingOverviewPlansCreate an account and API keyAccount administrationOverviewSet up a workspaceManage organizations using the APIManage billingSet up resource tagsUser managementReferenceLangSmith Python SDKLangSmith JS/TS SDKLangGraph Python SDKLangGraph JS/TS SDKLangSmith APILangGraph Server APIControl Plane API for LangSmith DeploymentAdditional resourcesReleases & changelogsData managementAuthentication methodsFAQsRegions FAQPricing FAQLangSmith docsCopy pageCopy pageLangSmith provides tools for developing, debugging, and deploying LLM applications.\n",
      "It helps you trace requests, evaluate outputs, test prompts, and manage deployments in one place.\n",
      "\n",
      "It helps you trace requests, evaluate outputs, test prompts, and manage deployments in one place.\n",
      "LangSmith is framework agnostic, so you can use it with or without LangChain’s open-source libraries\n",
      "langchain and langgraph.\n",
      "Prototype locally, then move to production with integrated monitoring and evaluation to build more reliable AI systems.\n",
      "​Get started\n",
      "Create an accountSign up at smith.langchain.com (no credit card required).\n",
      "You can log in with Google, GitHub, or email.Create an API keyGo to your Settings page → API Keys → Create API Key.\n",
      "Copy the key and save it securely.\n",
      "Once your account and API key are ready, choose a quickstart to begin building with LangSmith:\n",
      "\n",
      "Copy the key and save it securely.\n",
      "Once your account and API key are ready, choose a quickstart to begin building with LangSmith:\n",
      "ObservabilityGain visibility into every step your application takes to debug faster and improve reliability.Start tracingEvaluationMeasure and track quality over time to ensure your AI applications are consistent and trustworthy.Evaluate your appDeploymentDeploy your agents as LangGraph Servers, ready to scale in production.Deploy your agentsPrompt TestingIterate on prompts with built-in versioning and collaboration to ship improvements faster.Test your promptsStudioUse a visual interface to design, test, and refine applications end-to-end.Develop with StudioHostingHost LangSmith in the cloud, in your environment, or hybrid to match your infrastructure and compliance needs.Choose your hosting mode\n",
      "​Workflow\n",
      "LangSmith combines observability, evaluation, deployment, and hosting in one integrated workflow—from local development to production.\n",
      "\n",
      "Edit the source of this page on GitHubWas this page helpful?YesNoPricing plansNext⌘IDocs by LangChain home pagegithubxlinkedinyoutubeResourcesForumChangelogLangChain AcademyTrust CenterCompanyAboutCareersBloggithubxlinkedinyoutubePowered by Mintlify\u001b[0m\u001b[32;1m\u001b[1;3mA LangGraph is a part of the LangSmith platform, which provides tools for developing, debugging, and deploying LLM (Large Language Model) applications. It is used for deploying agents as LangGraph Servers, ready to scale in production. LangSmith is framework agnostic, allowing you to use it with or without LangChain's open-source libraries, including langchain and langgraph.\u001b[0m\n",
      "\n",
      "\u001b[1m> Finished chain.\u001b[0m\n"
     ]
    },
    {
     "data": {
      "text/plain": [
       "{'input': 'hi! what is a langgraph?',\n",
       " 'output': \"A LangGraph is a part of the LangSmith platform, which provides tools for developing, debugging, and deploying LLM (Large Language Model) applications. It is used for deploying agents as LangGraph Servers, ready to scale in production. LangSmith is framework agnostic, allowing you to use it with or without LangChain's open-source libraries, including langchain and langgraph.\"}"
      ]
     },
     "execution_count": 42,
     "metadata": {},
     "output_type": "execute_result"
    }
   ],
   "source": [
    "agent_executor.invoke({\"input\": \"hi! what is a langgraph?\"})"
   ]
  },
  {
   "cell_type": "code",
   "execution_count": 43,
   "id": "59ea3c43",
   "metadata": {},
   "outputs": [
    {
     "name": "stdout",
     "output_type": "stream",
     "text": [
      "\n",
      "\n",
      "\u001b[1m> Entering new AgentExecutor chain...\u001b[0m\n",
      "\u001b[32;1m\u001b[1;3m\n",
      "Invoking: `tavily_search_results_json` with `{'query': 'San Francisco weather'}`\n",
      "\n",
      "\n",
      "\u001b[0m\u001b[36;1m\u001b[1;3m[{'title': 'Weather in San Francisco, California for October 2025', 'url': 'https://www.easeweather.com/north-america/united-states/california/city-and-county-of-san-francisco/san-francisco/october', 'content': 'Until now, October 2025 in San Francisco is cooler than usual, with temperatures averaging 15.6 °F, this is -4.1 °F below the typical seasonal average.\\n Expect cooler weather in the next days in San Francisco with the forecast suggesting a temperature of 18.5 °F, lower than the historical average. [...] | Oct. 22 | Sunny | 19° /14° | 0 mm | 5 |\\n| Oct. 23 | Sunny | 20° /15° | 0 mm | 5 |\\n| Oct. 24 | Sunny | 17° /14° | 0 mm | 5 |\\n| Oct. 25 | Patchy rain possible | 17° /14° | 1.1 mm | 4 |\\n| Oct. 26 | Patchy rain possible | 15° /13° | 0.9 mm | 3 |\\n| Oct. 27 | Sunny | 17° /12° | 0 mm | 4 |\\n| Oct. 28 | Sunny | 19° /14° | 0 mm | 5 |\\n| Oct. 29 | Sunny | 21° /16° | 0 mm | 5 |\\n| Oct. 30 | Partly cloudy | 17° /11° | 0 mm | 5 |\\n| Oct. 31 | Overcast | 17° /11° | 0.5 mm | 5 |\\n| Next |', 'score': 0.91901255}, {'title': 'Weather San Francisco in October 2025: Temperature & Climate', 'url': 'https://en.climate-data.org/north-america/united-states-of-america/california/san-francisco-385/t/october-10/', 'content': \"| Max. Temperature °C (°F) | 14 °C (57.3) °F | 14.9 °C (58.7) °F | 16.2 °C (61.2) °F | 17.4 °C (63.3) °F | 19.2 °C (66.5) °F | 21.5 °C (70.8) °F | 21.8 °C (71.2) °F | 22.2 °C (71.9) °F | 23.1 °C (73.6) °F | 21.3 °C (70.3) °F | 17.1 °C (62.8) °F | 13.9 °C (57.1) °F |\\n| Precipitation / Rainfall mm (in) | 113 (4) | 118 (4) | 83 (3) | 40 (1) | 21 (0) | 6 (0) | 2 (0) | 2 (0) | 3 (0) | 25 (0) | 57 (2) | 111 (4) |\\n| Humidity(%) | 79% | 80% | 78% | 72% | 70% | 69% | 74% | 74% | 71% | 70% | 76% | 78% | [...] | Min. Temperature °C (°F) | 6.2 °C (43.2) °F | 7.1 °C (44.8) °F | 8.2 °C (46.8) °F | 8.9 °C (48.1) °F | 10.3 °C (50.6) °F | 11.8 °C (53.3) °F | 12.7 °C (54.9) °F | 13.3 °C (55.9) °F | 13.1 °C (55.6) °F | 11.9 °C (53.4) °F | 9 °C (48.2) °F | 6.8 °C (44.2) °F | [...] October in San Francisco brings mild and comfortable temperatures, making it a delightful time to visit. The average temperature during this month is around 60.3°F (15.7°C). On warmer days, the highs can reach about 70.3°F (21.3°C), providing perfect weather for exploring the city's outdoor attractions or enjoying a stroll along the waterfront. During cooler nights, temperatures might drop to approximately 53.4°F (11.9°C), so having a light jacket handy for evening outings is advisable. This\", 'score': 0.9104262}, {'title': 'San Francisco weather in October 2025 | Weather25.com', 'url': 'https://www.weather25.com/north-america/usa/california/san-francisco?page=month&month=October', 'content': '| 19 Image 46: Light rain shower 16°/13° | 20 Image 47: Patchy rain possible 15°/13° | 21 Image 48: Sunny 17°/13° | 22 Image 49: Sunny 18°/13° | 23 Image 50: Sunny 19°/14° | 24 Image 51: Partly cloudy 18°/15° | 25 Image 52: Cloudy 19°/15° |\\n| 26 Image 53: Sunny 20°/13° | 27 Image 54: Sunny 19°/12° | 28 Image 55: Sunny 20°/12° | 29 Image 56: Sunny 19°/12° | 30 Image 57: Partly cloudy 18°/12° | 31 Image 58: Partly cloudy 19°/12° |  | [...] The average weather in San Francisco in October\\n\\nThe temperatures in San Francisco in October are comfortable with low of 13°C and and high up to 23°C.\\n\\nThe wather in San Francisco in October can vary between cold and nice weather days. Expect a few rainy days but usually not more than 3.\\n\\nOur weather forecast can give you a great sense of what weather to expect in San Francisco in October 2025. [...] | Sun | Mon | Tue | Wed | Thu | Fri | Sat |\\n ---  ---  --- \\n|  |  |  | 1 Image 28: Sunny 22°/15° | 2 Image 29: Sunny 22°/15° | 3 Image 30: Sunny 22°/14° | 4 Image 31: Partly cloudy 20°/13° |\\n| 5 Image 32: Sunny 23°/15° | 6 Image 33: Partly cloudy 22°/15° | 7 Image 34: Partly cloudy 21°/14° | 8 Image 35: Overcast 19°/13° | 9 Image 36: Partly cloudy 18°/12° | 10 Image 37: Sunny 18°/13° | 11 Image 38: Partly cloudy 19°/12° |', 'score': 0.9035075}, {'title': 'October 2025 Weather History in South San Francisco California ...', 'url': 'https://weatherspark.com/h/m/568/2025/10/Historical-Weather-in-October-2025-in-South-San-Francisco-California-United-States', 'content': '|  --- | | Dew Pt. | 48.9°F  dry | | Rel. Humidity | 86% |  Precipitation  No Report  Wind  0.0 mph calm  Cloud Cover  Mostly Cloudy   2,900 ft   |  |  | Mostly Clear 2,000 ft |   |  |  |  --- | | Vis. | 10.00 mi or greater | | Alt. | 29.74 inHg |  Raw: KSFO 141513Z 00000KT 10SM FEW020 BKN029 12/09 A2974 RMK AO2 T01170094  This report shows the past weather for South San Francisco, providing a weather history for October 2025. It features all historical weather data series we have available, [...] 7% | 4:40 AM | E | 5:09 PM | W  10:56 AM | S | 247,121 mi | | 19 |  | 3% | 5:39 AM | E | 5:31 PM | W  11:36 AM | S | 248,920 mi | | 20 |  | 0% | 6:39 AM | ESE | 5:53 PM | WSW  12:17 PM | S | 250,392 mi | | 21 |  | 0% | 7:39 AM | ESE | 6:17 PM | WSW  12:58 PM | S | 251,518 mi | | 22 |  | 2% | 8:39 AM | ESE | 6:45 PM | WSW  1:42 PM | S | 252,259 mi | | 23 |  | 5% | 9:40 AM | ESE | 7:18 PM | WSW  2:29 PM | S | 252,551 mi | | 24 |  | 10% | 10:41 AM | SE | 7:56 PM | SW  3:18 PM | S | 252,317 mi | |', 'score': 0.8991304}, {'title': 'Weather in San Francisco in October 2025', 'url': 'https://world-weather.info/forecast/el_salvador/san_francisco/october-2025/', 'content': \"Weather\\n Archive\\n Weather Widget\\n\\n World\\n El Salvador\\n Weather in San Francisco\\n\\n# Weather in San Francisco in October 2025\\n\\nSan Francisco Weather Forecast for October 2025, is based on previous years' statistical data.\\n\\nJanFebMarAprMayJunJulAugSepOctNovDec\\n\\n  \\n\\n## October\\n\\nStart Week On\\n\\n Sun\\n Mon\\n Tue\\n Wed\\n Thu\\n Fri\\n Sat\\n\\n +88°\\n\\n  2.9 mph S 28.8 inHg70 %05:41 am05:42 pm\\n 2\\n\\n  +88°\\n\\n  +75°\\n\\n  3.4 mph SE 28.8 inHg69 %05:41 am05:41 pm\\n 3\\n\\n  +88°\\n\\n  +75° [...] 2.5 mph SE 28.9 inHg71 %05:43 am05:31 pm\\n 19\\n\\n  +88°\\n\\n  +73°\\n\\n  3.1 mph SE 28.9 inHg72 %05:43 am05:30 pm\\n 20\\n\\n  +88°\\n\\n  +75°\\n\\n  2.9 mph S 28.9 inHg70 %05:44 am05:30 pm\\n 21\\n\\n  +86°\\n\\n  +75°\\n\\n  2.7 mph S 28.9 inHg69 %05:44 am05:29 pm\\n 22\\n\\n  +88°\\n\\n  +75°\\n\\n  2.9 mph SE 28.9 inHg71 %05:44 am05:29 pm\\n 23\\n\\n  +88°\\n\\n  +75°\\n\\n  3.1 mph SE 28.9 inHg67 %05:44 am05:28 pm\\n 24\\n\\n  +88°\\n\\n  +77°\\n\\n  2.7 mph SE 28.9 inHg66 %05:44 am05:28 pm\\n 25\\n\\n  +88°\\n\\n  +75°\\n\\n  2.9 mph SE 28.9 inHg70 %05:45 am05:27 pm\\n 26 [...] Weather forecast on your site\\n\\nSan Francisco\\n\\n+77°\\n\\nTemperature units\\n\\n°F°C\", 'score': 0.8896154}]\u001b[0m\u001b[32;1m\u001b[1;3mThe current weather in San Francisco is mild and comfortable, with temperatures averaging around 60.3°F (15.7°C). Expect a few rainy days, but usually not more than 3. The high temperature can reach up to 70.3°F (21.3°C), while the low temperature can drop to approximately 53.4°F (11.9°C). It is advisable to have a light jacket handy for evening outings.\u001b[0m\n",
      "\n",
      "\u001b[1m> Finished chain.\u001b[0m\n"
     ]
    },
    {
     "data": {
      "text/plain": [
       "{'input': 'whats the weather in sf?',\n",
       " 'output': 'The current weather in San Francisco is mild and comfortable, with temperatures averaging around 60.3°F (15.7°C). Expect a few rainy days, but usually not more than 3. The high temperature can reach up to 70.3°F (21.3°C), while the low temperature can drop to approximately 53.4°F (11.9°C). It is advisable to have a light jacket handy for evening outings.'}"
      ]
     },
     "execution_count": 43,
     "metadata": {},
     "output_type": "execute_result"
    }
   ],
   "source": [
    "agent_executor.invoke({\"input\": \"whats the weather in sf?\"})"
   ]
  },
  {
   "cell_type": "code",
   "execution_count": 44,
   "id": "a7ccaff5",
   "metadata": {},
   "outputs": [],
   "source": [
    "from langchain.utilities import GoogleSerperAPIWrapper\n",
    "from langchain.agents import Tool\n",
    "from langchain_core.prompts import PromptTemplate\n",
    "from langchain.agents import AgentExecutor, create_react_agent"
   ]
  },
  {
   "cell_type": "code",
   "execution_count": 45,
   "id": "767a1ec1",
   "metadata": {},
   "outputs": [],
   "source": [
    "google_search = GoogleSerperAPIWrapper()\n",
    "\n",
    "tools = [\n",
    "    Tool(\n",
    "        name=\"Intermediate Answer\",\n",
    "        func=google_search.run,\n",
    "        description=\"useful for when you need to ask with search\",\n",
    "        verbose=True\n",
    "    )\n",
    "]"
   ]
  },
  {
   "cell_type": "code",
   "execution_count": 46,
   "id": "aaee2a12",
   "metadata": {},
   "outputs": [],
   "source": [
    "template = '''Answer the following questions as best you can. You have access to the following tools:\n",
    "{tools}\n",
    "Use the following format:\n",
    "Question: the input question you must answer\n",
    "Thought: you should always think about what to do\n",
    "Action: the action to take, should be one of [{tool_names}]\n",
    "Action Input: the input to the action\n",
    "Observation: the result of the action\n",
    "... (this Thought/Action/Action Input/Observation can repeat N times)\n",
    "Thought: I now know the final answer\n",
    "Final Answer: the final answer to the original input question\n",
    "Begin!\n",
    "Question: {input}\n",
    "Thought:{agent_scratchpad}'''"
   ]
  },
  {
   "cell_type": "code",
   "execution_count": 47,
   "id": "83b1e142",
   "metadata": {},
   "outputs": [],
   "source": [
    "prompt = PromptTemplate.from_template(template)"
   ]
  },
  {
   "cell_type": "code",
   "execution_count": 48,
   "id": "8a92d339",
   "metadata": {},
   "outputs": [],
   "source": [
    "search_agent = create_react_agent(llm_groq,tools,prompt)"
   ]
  },
  {
   "cell_type": "code",
   "execution_count": 49,
   "id": "ea8238e7",
   "metadata": {},
   "outputs": [],
   "source": [
    "agent_executor = AgentExecutor(\n",
    "    agent=search_agent,\n",
    "    tools=tools,\n",
    "    verbose=True,\n",
    "    return_intermediate_steps=True,\n",
    ")"
   ]
  },
  {
   "cell_type": "code",
   "execution_count": 50,
   "id": "45dbc640",
   "metadata": {},
   "outputs": [
    {
     "name": "stdout",
     "output_type": "stream",
     "text": [
      "\n",
      "\n",
      "\u001b[1m> Entering new AgentExecutor chain...\u001b[0m\n",
      "\u001b[32;1m\u001b[1;3mTo answer this question, I first need to identify the winner of the 2007 US PGA championship and then find out their hometown and score.\n",
      "\n",
      "Action: Intermediate Answer\n",
      "Action Input: 2007 US PGA championship winner\u001b[0m\u001b[36;1m\u001b[1;3mDefending champion Tiger Woods won his fourth PGA Championship and 13th major title, two strokes ahead of runner-up Woody Austin. Tiger Woods stretched his lead to three shots after the third round of the 89th US PGA Championship to stand on the verge of capturing the season's final ... Woods captured his fourth PGA Championship in 2007, topping Woody Austin by two shots. Austin made it interesting on the back nine making birdies on No's 11-13. Tiger Woods, four-time PGA Championship champion (1999, 2000, 2006, and 2007). He is one of two golfers to win the PGA Championship back-to-back in stroke ... Tiger Woods won the PGA Championship for the fourth time in 2007, and it was his 13th overall win in a major championship. It was also his second in a row after ... On this day, August 12th in 2007, Tiger Woods won his 13th Major Championship, winning the PGA championship. Woods won the Championship with a three shot lead ... Tiger Woods won the US PGA Championship for a second year in a row on this day in 2007 with a two-stroke victory over Woody Austin at Southern Hills. Watch a recap of Tiger Woods' 4th career PGA Championship win at Southern Hills in 2007 where he battled the heat, the course, Geoff Ogilvy ... Tiger Woods returned to Tulsa for the 2007 PGA Championship having played at Southern Hills twice before. 2007. Tiger Woods. Southern Hills C.C.. 71-63-69-69. -8 ; 2006. Tiger Woods. Medinah C.C. (#3). 69-68-65-68. -18 ; 2005. Phil Mickelson. Baltusrol ...\u001b[0m\u001b[32;1m\u001b[1;3mFrom the observation, I was able to find that the winner of the 2007 US PGA championship was Tiger Woods, and his score was 71-63-69-69, with a total of -8. However, I still need to find Tiger Woods' hometown.\n",
      "\n",
      "Action: Intermediate Answer\n",
      "Action Input: Tiger Woods hometown\u001b[0m\u001b[36;1m\u001b[1;3mWoods was born on December 30, 1975, in Cypress, California, to Earl and Kultida \"Tida\" Woods. · Woods's first name, Eldrick, was chosen by his mother because it ... He grew up in Cypress, California. He took an interest in golf at age 6 months, watching as his father hit golf balls into a net and imitating his swing. He ... Born Eldrick Woods on December 30, 1975, in Cypress, California, his distinctive nickname \"Tiger\" came from his father Earl's Green Beret army past. \"Tiger\" had ... Birthdate. 12/30/1975 (49) ; Birthplace. Cypress, California ; College. Stanford. Tiger Woods was born on December 30, 1975, in Cypress, California. That city is in the northwestern part of Orange County in Southern California. The Official PGA TOUR Profile of Tiger Woods. PGA TOUR Stats, bio, video, photos, results, and career highlights. Eldrick Tont Woods, better known as Tiger Woods, was born on December 30, 1975, in Cypress, California, the only child of a Black father and a ... Tiger Woods nickname \"Tiger\" comes from a Vietnamese soldier, Nguyen Phong, who was a friend to his father, Earl Woods who was a Green Beret Lieutenant Colonel ... Eldrick \"Tiger\" Woods was born in Cypress, California, to Earl and Kultida Woods. Earl was from Manhattan, Kansas, while Kultida was from Bangkok, Thailand. Official PGA Championship player profile of Tiger Woods. Featuring news, bio, stats, videos, and more ... Hometown: Jupiter, FL; College: Stanford University ...\u001b[0m\u001b[32;1m\u001b[1;3mThought: From the observation, I was able to find that Tiger Woods was born in Cypress, California, but his current hometown is listed as Jupiter, Florida. \n",
      "\n",
      "Action: No further action is required as I have all the necessary information.\n",
      "\n",
      "Thought: I now know the final answer\n",
      "\n",
      "Final Answer: The hometown of the 2007 US PGA championship winner, Tiger Woods, is Cypress, California, and his score was 71-63-69-69, with a total of -8. However, it's worth noting that his current hometown is listed as Jupiter, Florida.\u001b[0m\n",
      "\n",
      "\u001b[1m> Finished chain.\u001b[0m\n"
     ]
    },
    {
     "data": {
      "text/plain": [
       "{'input': 'Where is the hometown of the 2007 US PGA championship winner and his score?',\n",
       " 'output': \"The hometown of the 2007 US PGA championship winner, Tiger Woods, is Cypress, California, and his score was 71-63-69-69, with a total of -8. However, it's worth noting that his current hometown is listed as Jupiter, Florida.\",\n",
       " 'intermediate_steps': [(AgentAction(tool='Intermediate Answer', tool_input='2007 US PGA championship winner', log='To answer this question, I first need to identify the winner of the 2007 US PGA championship and then find out their hometown and score.\\n\\nAction: Intermediate Answer\\nAction Input: 2007 US PGA championship winner'),\n",
       "   \"Defending champion Tiger Woods won his fourth PGA Championship and 13th major title, two strokes ahead of runner-up Woody Austin. Tiger Woods stretched his lead to three shots after the third round of the 89th US PGA Championship to stand on the verge of capturing the season's final ... Woods captured his fourth PGA Championship in 2007, topping Woody Austin by two shots. Austin made it interesting on the back nine making birdies on No's 11-13. Tiger Woods, four-time PGA Championship champion (1999, 2000, 2006, and 2007). He is one of two golfers to win the PGA Championship back-to-back in stroke ... Tiger Woods won the PGA Championship for the fourth time in 2007, and it was his 13th overall win in a major championship. It was also his second in a row after ... On this day, August 12th in 2007, Tiger Woods won his 13th Major Championship, winning the PGA championship. Woods won the Championship with a three shot lead ... Tiger Woods won the US PGA Championship for a second year in a row on this day in 2007 with a two-stroke victory over Woody Austin at Southern Hills. Watch a recap of Tiger Woods' 4th career PGA Championship win at Southern Hills in 2007 where he battled the heat, the course, Geoff Ogilvy ... Tiger Woods returned to Tulsa for the 2007 PGA Championship having played at Southern Hills twice before. 2007. Tiger Woods. Southern Hills C.C.. 71-63-69-69. -8 ; 2006. Tiger Woods. Medinah C.C. (#3). 69-68-65-68. -18 ; 2005. Phil Mickelson. Baltusrol ...\"),\n",
       "  (AgentAction(tool='Intermediate Answer', tool_input='Tiger Woods hometown', log=\"From the observation, I was able to find that the winner of the 2007 US PGA championship was Tiger Woods, and his score was 71-63-69-69, with a total of -8. However, I still need to find Tiger Woods' hometown.\\n\\nAction: Intermediate Answer\\nAction Input: Tiger Woods hometown\"),\n",
       "   'Woods was born on December 30, 1975, in Cypress, California, to Earl and Kultida \"Tida\" Woods. · Woods\\'s first name, Eldrick, was chosen by his mother because it ... He grew up in Cypress, California. He took an interest in golf at age 6 months, watching as his father hit golf balls into a net and imitating his swing. He ... Born Eldrick Woods on December 30, 1975, in Cypress, California, his distinctive nickname \"Tiger\" came from his father Earl\\'s Green Beret army past. \"Tiger\" had ... Birthdate. 12/30/1975 (49) ; Birthplace. Cypress, California ; College. Stanford. Tiger Woods was born on December 30, 1975, in Cypress, California. That city is in the northwestern part of Orange County in Southern California. The Official PGA TOUR Profile of Tiger Woods. PGA TOUR Stats, bio, video, photos, results, and career highlights. Eldrick Tont Woods, better known as Tiger Woods, was born on December 30, 1975, in Cypress, California, the only child of a Black father and a ... Tiger Woods nickname \"Tiger\" comes from a Vietnamese soldier, Nguyen Phong, who was a friend to his father, Earl Woods who was a Green Beret Lieutenant Colonel ... Eldrick \"Tiger\" Woods was born in Cypress, California, to Earl and Kultida Woods. Earl was from Manhattan, Kansas, while Kultida was from Bangkok, Thailand. Official PGA Championship player profile of Tiger Woods. Featuring news, bio, stats, videos, and more ... Hometown: Jupiter, FL; College: Stanford University ...')]}"
      ]
     },
     "execution_count": 50,
     "metadata": {},
     "output_type": "execute_result"
    }
   ],
   "source": [
    "agent_executor.invoke({\"input\": \"Where is the hometown of the 2007 US PGA championship winner and his score?\"})"
   ]
  },
  {
   "cell_type": "markdown",
   "id": "be6dfce4",
   "metadata": {},
   "source": [
    "ReACT with custom tools"
   ]
  },
  {
   "cell_type": "code",
   "execution_count": 51,
   "id": "6b108149",
   "metadata": {},
   "outputs": [],
   "source": [
    "from langchain.tools import tool\n",
    "from langchain import hub\n",
    "from langchain.agents import AgentExecutor, create_react_agent"
   ]
  },
  {
   "cell_type": "code",
   "execution_count": 52,
   "id": "acbd0a83",
   "metadata": {},
   "outputs": [],
   "source": [
    "# Custom tool for the Agent \n",
    "@tool\n",
    "def get_employee_id(name):\n",
    "  \"\"\"\n",
    "  To get employee id, it takes employee name as arguments\n",
    "  name(str): Name of the employee\n",
    "  \"\"\"\n",
    "  fake_employees = {\n",
    "    \"Alice\": \"E001\",\n",
    "    \"Bob\": \"E002\",\n",
    "    \"Charlie\": \"E003\",\n",
    "    \"Diana\": \"E004\",\n",
    "    \"Evan\": \"E005\",\n",
    "    \"Fiona\": \"E006\",\n",
    "    \"George\": \"E007\",\n",
    "    \"Hannah\": \"E008\",\n",
    "    \"Ian\": \"E009\",\n",
    "    \"Jasmine\": \"E010\"}\n",
    "  \n",
    "  return fake_employees.get(name,\"Employee not found\")"
   ]
  },
  {
   "cell_type": "code",
   "execution_count": 53,
   "id": "6f07d138",
   "metadata": {},
   "outputs": [],
   "source": [
    "# Custom tool for the Agent \n",
    "@tool\n",
    "def get_employee_salary(employee_id):\n",
    "  \"\"\"\n",
    "  To get the salary of an employee, it takes employee_id as input and return salary\n",
    "  \"\"\"\n",
    "  employee_salaries = {\n",
    "    \"E001\": 56000,\n",
    "    \"E002\": 47000,\n",
    "    \"E003\": 52000,\n",
    "    \"E004\": 61000,\n",
    "    \"E005\": 45000,\n",
    "    \"E006\": 58000,\n",
    "    \"E007\": 49000,\n",
    "    \"E008\": 53000,\n",
    "    \"E009\": 50000,\n",
    "    \"E010\": 55000\n",
    "    }\n",
    "  return employee_salaries.get(employee_id,\"Employee not found\")"
   ]
  },
  {
   "cell_type": "code",
   "execution_count": 54,
   "id": "9a31d887",
   "metadata": {},
   "outputs": [],
   "source": [
    "# Saved React Prompt in langchain hub, we could manually type the prompt as well.\n",
    "prompt = hub.pull(\"hwchase17/react\")"
   ]
  },
  {
   "cell_type": "code",
   "execution_count": 55,
   "id": "9d323079",
   "metadata": {},
   "outputs": [
    {
     "name": "stdout",
     "output_type": "stream",
     "text": [
      "Answer the following questions as best you can. You have access to the following tools:\n",
      "\n",
      "{tools}\n",
      "\n",
      "Use the following format:\n",
      "\n",
      "Question: the input question you must answer\n",
      "Thought: you should always think about what to do\n",
      "Action: the action to take, should be one of [{tool_names}]\n",
      "Action Input: the input to the action\n",
      "Observation: the result of the action\n",
      "... (this Thought/Action/Action Input/Observation can repeat N times)\n",
      "Thought: I now know the final answer\n",
      "Final Answer: the final answer to the original input question\n",
      "\n",
      "Begin!\n",
      "\n",
      "Question: {input}\n",
      "Thought:{agent_scratchpad}\n"
     ]
    }
   ],
   "source": [
    "print(prompt.template)"
   ]
  },
  {
   "cell_type": "code",
   "execution_count": 56,
   "id": "7482bc9c",
   "metadata": {},
   "outputs": [],
   "source": [
    "tools = [get_employee_salary, get_employee_id]"
   ]
  },
  {
   "cell_type": "code",
   "execution_count": 57,
   "id": "14c3ab7e",
   "metadata": {},
   "outputs": [],
   "source": [
    "agent = create_react_agent(llm_groq,tools,prompt)"
   ]
  },
  {
   "cell_type": "code",
   "execution_count": 58,
   "id": "e2e853ba",
   "metadata": {},
   "outputs": [],
   "source": [
    "agent_executor = AgentExecutor(agent=agent,tools=tools,verbose=True)"
   ]
  },
  {
   "cell_type": "code",
   "execution_count": 59,
   "id": "8a7484cb",
   "metadata": {},
   "outputs": [
    {
     "name": "stdout",
     "output_type": "stream",
     "text": [
      "\n",
      "\n",
      "\u001b[1m> Entering new AgentExecutor chain...\u001b[0m\n",
      "\u001b[32;1m\u001b[1;3mTo find the salary of Evan, I first need to get Evan's employee ID, since the function to get the salary requires the employee ID as input.\n",
      "\n",
      "Action: get_employee_id\n",
      "Action Input: Evan\u001b[0m\u001b[33;1m\u001b[1;3mE005\u001b[0m\u001b[32;1m\u001b[1;3mNow that I have Evan's employee ID, I can use it to get his salary.\n",
      "\n",
      "Action: get_employee_salary\n",
      "Action Input: E005\u001b[0m\u001b[36;1m\u001b[1;3m45000\u001b[0m\u001b[32;1m\u001b[1;3mI now know the final answer\n",
      "Final Answer: 45000\u001b[0m\n",
      "\n",
      "\u001b[1m> Finished chain.\u001b[0m\n"
     ]
    },
    {
     "data": {
      "text/plain": [
       "{'input': 'What is the Salary of Evan?', 'output': '45000'}"
      ]
     },
     "execution_count": 59,
     "metadata": {},
     "output_type": "execute_result"
    }
   ],
   "source": [
    "agent_executor.invoke({\"input\":\"What is the Salary of Evan?\"})"
   ]
  },
  {
   "cell_type": "markdown",
   "id": "6b06b64b",
   "metadata": {},
   "source": [
    "Self-Ask with Search Agent:\n",
    "Definition:\n",
    "\n",
    "This approach allows the AI to ask itself follow-up questions when it doesn't immediately know the answer. It performs a recursive questioning process to break down complex queries into smaller, more manageable ones.\n",
    "Once the AI generates these follow-up questions, it performs an external search (e.g., through Google or an internal database) to gather the necessary information before formulating a response.\n",
    "How it works:\n",
    "\n",
    "Step 1: Receive a complex question.\n",
    "Step 2: The agent identifies sub-questions or follow-up questions.\n",
    "Step 3: It performs a search or fetches answers to these questions from external resources (like a web search).\n",
    "Step 4: The answers are aggregated to provide a complete response.\n",
    "Key points:\n",
    "\n",
    "Emphasizes question decomposition.\n",
    "Relies on external search for sub-questions.\n",
    "Useful for answering open-ended or broad questions where the answer is not immediately available.\n",
    "Example:\n",
    "\n",
    "Original question: “How many moons does Jupiter have?”\n",
    "Sub-question: “What is Jupiter?” (search)\n",
    "Sub-question: “What are moons?” (search)\n",
    "Finally, it retrieves the answer: \"Jupiter has 79 moons.\""
   ]
  },
  {
   "cell_type": "code",
   "execution_count": null,
   "id": "77ebed1e",
   "metadata": {},
   "outputs": [],
   "source": []
  }
 ],
 "metadata": {
  "kernelspec": {
   "display_name": "langgraphvenv",
   "language": "python",
   "name": "python3"
  },
  "language_info": {
   "codemirror_mode": {
    "name": "ipython",
    "version": 3
   },
   "file_extension": ".py",
   "mimetype": "text/x-python",
   "name": "python",
   "nbconvert_exporter": "python",
   "pygments_lexer": "ipython3",
   "version": "3.11.11"
  }
 },
 "nbformat": 4,
 "nbformat_minor": 5
}
