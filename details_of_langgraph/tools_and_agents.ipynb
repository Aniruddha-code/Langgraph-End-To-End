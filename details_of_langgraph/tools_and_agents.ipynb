{
 "cells": [
  {
   "cell_type": "code",
   "execution_count": 4,
   "id": "46573735",
   "metadata": {},
   "outputs": [
    {
     "data": {
      "text/plain": [
       "True"
      ]
     },
     "execution_count": 4,
     "metadata": {},
     "output_type": "execute_result"
    }
   ],
   "source": [
    "import os\n",
    "from dotenv import load_dotenv\n",
    "load_dotenv()"
   ]
  },
  {
   "cell_type": "code",
   "execution_count": 5,
   "id": "9859d6f6",
   "metadata": {},
   "outputs": [],
   "source": [
    "GOOGLE_API_KEY=os.getenv(\"GOOGLE_API_KEY\")\n",
    "TAVILY_API_KEY=os.getenv(\"TAVILY_API_KEY\")\n",
    "GROQ_API_KEY=os.getenv(\"GROQ_API_KEY\")\n",
    "LANGCHAIN_API_KEY=os.getenv(\"LANGCHAIN_API_KEY\")\n",
    "LANGCHAIN_PROJECT=os.getenv(\"LANGCHAIN_PROJECT\")\n",
    "os.environ[\"GOOGLE_API_KEY\"] = GOOGLE_API_KEY\n",
    "os.environ[\"TAVILY_API_KEY\"] = TAVILY_API_KEY\n",
    "os.environ[\"GROQ_API_KEY\"]= GROQ_API_KEY\n",
    "os.environ[\"LANGCHAIN_API_KEY\"] = LANGCHAIN_API_KEY\n",
    "os.environ[\"LANGCHAIN_TRACING_V2\"] = \"true\"\n",
    "os.environ[\"LANGCHAIN_ENDPOINT\"] = \"https://api.smith.langchain.com\"\n",
    "os.environ[\"LANGCHAIN_PROJECT\"]=LANGCHAIN_PROJECT"
   ]
  },
  {
   "cell_type": "code",
   "execution_count": 6,
   "id": "b8a012ab",
   "metadata": {},
   "outputs": [
    {
     "name": "stderr",
     "output_type": "stream",
     "text": [
      "d:\\PythonCode\\Langgraph-End-To-End\\langgraphvenv\\Lib\\site-packages\\tqdm\\auto.py:21: TqdmWarning: IProgress not found. Please update jupyter and ipywidgets. See https://ipywidgets.readthedocs.io/en/stable/user_install.html\n",
      "  from .autonotebook import tqdm as notebook_tqdm\n"
     ]
    }
   ],
   "source": [
    "from langchain_groq import ChatGroq\n",
    "llm_groq = ChatGroq(model=\"llama-3.3-70b-versatile\")"
   ]
  },
  {
   "cell_type": "code",
   "execution_count": 7,
   "id": "35e6d4b8",
   "metadata": {},
   "outputs": [
    {
     "data": {
      "text/plain": [
       "AIMessage(content=\"I'm just a language model, so I don't have emotions or feelings like humans do, but I'm functioning properly and ready to help with any questions or tasks you might have. How about you? How's your day going so far?\", additional_kwargs={}, response_metadata={'token_usage': {'completion_tokens': 50, 'prompt_tokens': 40, 'total_tokens': 90, 'completion_time': 0.103649029, 'prompt_time': 0.001801799, 'queue_time': 0.056355927, 'total_time': 0.105450828}, 'model_name': 'llama-3.3-70b-versatile', 'system_fingerprint': 'fp_9e1e8f8435', 'service_tier': 'on_demand', 'finish_reason': 'stop', 'logprobs': None}, id='run--99e51104-3805-4000-bb0e-03db6bfa96ad-0', usage_metadata={'input_tokens': 40, 'output_tokens': 50, 'total_tokens': 90})"
      ]
     },
     "execution_count": 7,
     "metadata": {},
     "output_type": "execute_result"
    }
   ],
   "source": [
    "llm_groq.invoke(\"Hi, How are you\")"
   ]
  },
  {
   "cell_type": "markdown",
   "id": "99efb465",
   "metadata": {},
   "source": [
    "###Predefined tool"
   ]
  },
  {
   "cell_type": "code",
   "execution_count": 8,
   "id": "3e508360",
   "metadata": {},
   "outputs": [
    {
     "name": "stdout",
     "output_type": "stream",
     "text": [
      "\u001b[32;1m\u001b[1;3mPage: LangChain\n",
      "Summary: LangChain is a software framework that helps facilitate the integration of large language models (LLMs) into applications. As a language model integration framework, LangChain's use-cases largely overlap with those of language models in general, including document analysis and summarization, chatbots, and code analysis.\n",
      "\n",
      "Page: C (programming language)\n",
      "Summary: C is a general-purpose programming language. It was created in the 1970s by Dennis Ritchie and remains widely used and influential. By design, C gives the programmer relatively direct access to the features of the typical CPU architecture, customized for the target instruction set. It has been and continues to be used to implement operating systems (especially kernels), device drivers, and protocol stacks, but its use in application software has been decreasing. C is used on computers that range from the largest supercomputers to the smallest microcontrollers and embedded systems.\n",
      "A successor to the programming language B, C was originally developed at Bell Labs by Ritchie between 1972 and 1973 to construct utilities running on Unix. It was applied to re-implementing the kernel of the Unix operating system. During the 1980s, C gradually gained popularity. It has become one of the most widely used programming languages, with C compilers available for practically all modern computer architectures and operating systems. The book The C Programming Language, co-authored by the original language designer, served for many years as the de facto standard for the language. C has been standardized since 1989 by the American National Standards Institute (ANSI) and, subsequently, jointly by the International Organization for Standardization (ISO) and the International Electrotechnical Commission (IEC).\n",
      "C is an imperative procedural language, supporting structured programming, lexical variable scope, and recursion, with a static type system. It was designed to be compiled to provide low-level access to memory and language constructs that map efficiently to machine instructions, all with minimal runtime support. Despite its low-level capabilities, the language was designed to encourage cross-platform programming. A standards-compliant C program written with portability in mind can be compiled for a wide variety of computer platforms and operating systems with few changes to its source code.\n",
      "Although neither C nor its standard library provide some popular features found in other languages, it is flexible enough to support them. For example, object orientation and garbage collection are provided by external libraries GLib Object System and Boehm garbage collector, respectively.\n",
      "Since 2000, C has consistently ranked among the top four languages in the TIOBE index, a measure of the popularity of programming languages.\n",
      "\n",
      "\n",
      "\n",
      "Page: Pharmacokinetics of estradiol\n",
      "Summary: The pharmacology of estradiol, an estrogen medication and naturally occurring steroid hormone, concerns its pharmacodynamics, pharmacokinetics, and various routes of administration.\n",
      "Estradiol is a naturally occurring and bioidentical estrogen, or an agonist of the estrogen receptor, the biological target of estrogens like endogenous estradiol. Due to its estrogenic activity, estradiol has antigonadotropic effects and can inhibit fertility and suppress sex hormone production in both women and men. Estradiol differs from non-bioidentical estrogens like conjugated estrogens and ethinylestradiol in various ways, with implications for tolerability and safety.\n",
      "Estradiol can be taken by mouth, held under the tongue, as a gel or patch that is applied to the skin, in through the vagina, by injection into muscle or fat, or through the use of an implant that is placed into fat, among other routes.\u001b[0mPage: LangChain\n",
      "Summary: LangChain is a software framework that helps facilitate the integration of large language models (LLMs) into applications. As a language model integration framework, LangChain's use-cases largely overlap with those of language models in general, including document analysis and summarization, chatbots, and code analysis.\n",
      "\n",
      "Page: C (programming language)\n",
      "Summary: C is a general-purpose programming language. It was created in the 1970s by Dennis Ritchie and remains widely used and influential. By design, C gives the programmer relatively direct access to the features of the typical CPU architecture, customized for the target instruction set. It has been and continues to be used to implement operating systems (especially kernels), device drivers, and protocol stacks, but its use in application software has been decreasing. C is used on computers that range from the largest supercomputers to the smallest microcontrollers and embedded systems.\n",
      "A successor to the programming language B, C was originally developed at Bell Labs by Ritchie between 1972 and 1973 to construct utilities running on Unix. It was applied to re-implementing the kernel of the Unix operating system. During the 1980s, C gradually gained popularity. It has become one of the most widely used programming languages, with C compilers available for practically all modern computer architectures and operating systems. The book The C Programming Language, co-authored by the original language designer, served for many years as the de facto standard for the language. C has been standardized since 1989 by the American National Standards Institute (ANSI) and, subsequently, jointly by the International Organization for Standardization (ISO) and the International Electrotechnical Commission (IEC).\n",
      "C is an imperative procedural language, supporting structured programming, lexical variable scope, and recursion, with a static type system. It was designed to be compiled to provide low-level access to memory and language constructs that map efficiently to machine instructions, all with minimal runtime support. Despite its low-level capabilities, the language was designed to encourage cross-platform programming. A standards-compliant C program written with portability in mind can be compiled for a wide variety of computer platforms and operating systems with few changes to its source code.\n",
      "Although neither C nor its standard library provide some popular features found in other languages, it is flexible enough to support them. For example, object orientation and garbage collection are provided by external libraries GLib Object System and Boehm garbage collector, respectively.\n",
      "Since 2000, C has consistently ranked among the top four languages in the TIOBE index, a measure of the popularity of programming languages.\n",
      "\n",
      "\n",
      "\n",
      "Page: Pharmacokinetics of estradiol\n",
      "Summary: The pharmacology of estradiol, an estrogen medication and naturally occurring steroid hormone, concerns its pharmacodynamics, pharmacokinetics, and various routes of administration.\n",
      "Estradiol is a naturally occurring and bioidentical estrogen, or an agonist of the estrogen receptor, the biological target of estrogens like endogenous estradiol. Due to its estrogenic activity, estradiol has antigonadotropic effects and can inhibit fertility and suppress sex hormone production in both women and men. Estradiol differs from non-bioidentical estrogens like conjugated estrogens and ethinylestradiol in various ways, with implications for tolerability and safety.\n",
      "Estradiol can be taken by mouth, held under the tongue, as a gel or patch that is applied to the skin, in through the vagina, by injection into muscle or fat, or through the use of an implant that is placed into fat, among other routes.\n"
     ]
    }
   ],
   "source": [
    "from langchain_community.tools import WikipediaQueryRun\n",
    "from langchain_community.utilities import WikipediaAPIWrapper\n",
    "\n",
    "api_wrapper = WikipediaAPIWrapper()\n",
    "tool = WikipediaQueryRun(api_wrapper=api_wrapper, return_direct=True, verbose=True)\n",
    "print(tool.run({\"query\":\"LangGraph\"}))"
   ]
  },
  {
   "cell_type": "code",
   "execution_count": 12,
   "id": "ec01bb9c",
   "metadata": {},
   "outputs": [
    {
     "data": {
      "text/plain": [
       "\"['https://www.youtube.com/watch?v=m9s1NQG3TNY&pp=ygULY2FycnltaW5hdGk%3D', 'https://www.youtube.com/watch?v=465iEeNOEBg&pp=ygULY2FycnltaW5hdGk%3D']\""
      ]
     },
     "execution_count": 12,
     "metadata": {},
     "output_type": "execute_result"
    }
   ],
   "source": [
    "from langchain_community.tools import YouTubeSearchTool\n",
    "\n",
    "tool2=YouTubeSearchTool()\n",
    "tool2.run(\"carryminati\")"
   ]
  },
  {
   "cell_type": "code",
   "execution_count": 13,
   "id": "798d6077",
   "metadata": {},
   "outputs": [],
   "source": [
    "\n",
    "from langchain_community.tools.tavily_search import TavilySearchResults"
   ]
  },
  {
   "cell_type": "code",
   "execution_count": 14,
   "id": "3a61913d",
   "metadata": {},
   "outputs": [
    {
     "name": "stderr",
     "output_type": "stream",
     "text": [
      "C:\\Users\\Aniruddha\\AppData\\Local\\Temp\\ipykernel_35668\\1442711075.py:1: LangChainDeprecationWarning: The class `TavilySearchResults` was deprecated in LangChain 0.3.25 and will be removed in 1.0. An updated version of the class exists in the :class:`~langchain-tavily package and should be used instead. To use it run `pip install -U :class:`~langchain-tavily` and import as `from :class:`~langchain_tavily import TavilySearch``.\n",
      "  tool = TavilySearchResults()\n"
     ]
    }
   ],
   "source": [
    "tool = TavilySearchResults()"
   ]
  },
  {
   "cell_type": "code",
   "execution_count": 15,
   "id": "b97a297e",
   "metadata": {},
   "outputs": [
    {
     "data": {
      "text/plain": [
       "[{'title': 'Trapped in the Mud at Burning Man 2025 – Daily Vlog Day 3',\n",
       "  'url': 'https://www.youtube.com/watch?v=P4gUjLh5BFs',\n",
       "  'content': 'Day 3 at Burning Man 2025 turned into pure survival. A massive rainstorm hit the playa, flooding everything and turning Black Rock City into',\n",
       "  'score': 0.70067},\n",
       " {'title': 'Burning Man Threatened by Dust Storm, Flood Warning - Newsweek',\n",
       "  'url': 'https://www.newsweek.com/burning-man-dust-storm-flood-warning-2118657',\n",
       "  'content': '# Burning Man Threatened by Dust Storm, Flood Warning\\n\\nPublished\\n\\nAug 25, 2025 at 06:22 AM EDT\\n\\nJoe Edwards\\n\\nLive News Reporter\\n\\nBurning Man attendees faced the threat of dust storms and heavy rain as the festival opened, with the National Weather Service (NWS) issuing weather alerts for northern and central Nevada.\\n\\n## Why It Matters\\n\\nBurning Man is a week-long festival set in the desert, where attendees create art, music and culture. [...] The National Weather Service forecast office in Elko, Nevada, said in a post on X, Sunday: \"Monsoonal moisture will surge northward into most of Northern and Central Nevada today through Wednesday, resulting in the likelihood of wetting thunderstorms each afternoon and evening. Heavy rain may result in minor flooding of recent burn scars, streams, and creeks.\"\\n\\n## What Happens Next\\n\\nThe Burning Man festival takes place from August 24 to September 1.\\n\\nGoogle Preferred Source Banner [...] The San Francisco Chronicle reported that campsites that had been erected early were damaged after a dust storm hit the desert before the festival began.\\n\\nA dust advisory issued Saturday by the NWS said that a \"wall of blowing dust\" coming off the Smoke Creek and Black Rock Desert playa areas was moving north at around 30 mph.\\n\\nThe agency warned of sudden reductions in visibility, which could be to less than a mile. It advised that travel should be delayed.',\n",
       "  'score': 0.5473921},\n",
       " {'title': 'Burning Man 2025 started Sunday, August 24, and thousands of ...',\n",
       "  'url': 'https://www.facebook.com/abc7news/videos/heres-a-look-at-sf-mens-journey-to-black-rock-city-ahead-of-burning-man-on-sunda/1003796195096711/',\n",
       "  'content': 'Burning Man 2025 started Sunday, August 24, and thousands of \"Burners\" were met with a massive dust storm. Last year, attendance was down after',\n",
       "  'score': 0.50915486},\n",
       " {'title': 'Burning Man 2025 opens with risk of rain, flash floods, high winds',\n",
       "  'url': 'https://www.rgj.com/story/news/2025/08/24/burning-man-2025-opens-with-risk-of-rain-flash-floods-high-winds/85808130007/',\n",
       "  'content': '“I’m not going to say it is going to happen or it’s not going to happen, but people should make preparations for their shelters,” she said. “We want people to have an idea of what could happen.” [...] The weather service started warning of possible monsoon-like conditions at least a week ahead of the festival. In 2023, heavy storms and rain stranded thousands of people and officials closed the gates in and out of the festival.\\n\\nWhile the Black Rock Desert and nearby town of Gerlach saw gusts topping 50 mph Saturday, there wasn’t much rain on the playa from bands of thunderstorms that hit the region. Reports of tents blowing away were all over Burning Man social media pages Sunday morning. [...] # Burning Man weather: Heat, humidity Sunday could put Black Rock City at risk of flooding\\n\\nPortrait of Siobhan McAndrew\\n\\nThe National Weather Service issued a flood watch on Sunday, the official first day of Burning Man, for the Black Rock Desert.\\n\\nRain could be an issue as 70,000 people head out to the playa over the next week. The annual festival runs Aug. 24 through Sept. 1.',\n",
       "  'score': 0.44608507},\n",
       " {'title': 'Burners defend Burning Man after several days of ... - YouTube',\n",
       "  'url': 'https://www.youtube.com/watch?v=2ksYMt2RzyA',\n",
       "  'content': \"It's been a wild ride for those either at Burning Man 2025 or trying to get there. Windstorms, thunder, lightning, and rain have hampered\",\n",
       "  'score': 0.34840176}]"
      ]
     },
     "execution_count": 15,
     "metadata": {},
     "output_type": "execute_result"
    }
   ],
   "source": [
    "\n",
    "tool.invoke({\"query\": \"What happened in the latest burning man floods\"})"
   ]
  },
  {
   "cell_type": "markdown",
   "id": "04d0ed7c",
   "metadata": {},
   "source": [
    "### Create a custom tool"
   ]
  },
  {
   "cell_type": "code",
   "execution_count": null,
   "id": "275b4900",
   "metadata": {},
   "outputs": [],
   "source": [
    "from langchain.agents import initialize_agent, tool\n",
    "\n",
    "@tool\n",
    "def get_word_length(word: str) -> str:\n",
    "    \"\"\"Custom tool that greets a person by name.\"\"\"\n",
    "    return len(word)"
   ]
  },
  {
   "cell_type": "code",
   "execution_count": null,
   "id": "30d4f27b",
   "metadata": {},
   "outputs": [],
   "source": []
  }
 ],
 "metadata": {
  "kernelspec": {
   "display_name": "langgraphvenv",
   "language": "python",
   "name": "python3"
  },
  "language_info": {
   "codemirror_mode": {
    "name": "ipython",
    "version": 3
   },
   "file_extension": ".py",
   "mimetype": "text/x-python",
   "name": "python",
   "nbconvert_exporter": "python",
   "pygments_lexer": "ipython3",
   "version": "3.11.11"
  }
 },
 "nbformat": 4,
 "nbformat_minor": 5
}
