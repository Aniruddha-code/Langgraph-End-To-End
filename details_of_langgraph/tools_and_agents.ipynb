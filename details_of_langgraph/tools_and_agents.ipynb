{
 "cells": [
  {
   "cell_type": "code",
   "execution_count": 4,
   "id": "46573735",
   "metadata": {},
   "outputs": [
    {
     "data": {
      "text/plain": [
       "True"
      ]
     },
     "execution_count": 4,
     "metadata": {},
     "output_type": "execute_result"
    }
   ],
   "source": [
    "import os\n",
    "from dotenv import load_dotenv\n",
    "load_dotenv()"
   ]
  },
  {
   "cell_type": "code",
   "execution_count": null,
   "id": "9859d6f6",
   "metadata": {},
   "outputs": [],
   "source": [
    "GOOGLE_API_KEY=os.getenv(\"GOOGLE_API_KEY\")\n",
    "TAVILY_API_KEY=os.getenv(\"TAVILY_API_KEY\")\n",
    "GROQ_API_KEY=os.getenv(\"GROQ_API_KEY\")\n",
    "SERPER_API_KEY=os.getenv(\"SERPER_API_KEY\")\n",
    "LANGCHAIN_API_KEY=os.getenv(\"LANGCHAIN_API_KEY\")\n",
    "LANGCHAIN_PROJECT=os.getenv(\"LANGCHAIN_PROJECT\")\n",
    "os.environ[\"GOOGLE_API_KEY\"] = GOOGLE_API_KEY\n",
    "os.environ[\"TAVILY_API_KEY\"] = TAVILY_API_KEY\n",
    "os.environ[\"GROQ_API_KEY\"]= GROQ_API_KEY\n",
    "os.environ[\"LANGCHAIN_API_KEY\"] = LANGCHAIN_API_KEY\n",
    "os.environ[\"SERPER_API_KEY\"] = SERPER_API_KEY\n",
    "os.environ[\"LANGCHAIN_TRACING_V2\"] = \"true\"\n",
    "os.environ[\"LANGCHAIN_ENDPOINT\"] = \"https://api.smith.langchain.com\"\n",
    "os.environ[\"LANGCHAIN_PROJECT\"]=LANGCHAIN_PROJECT"
   ]
  },
  {
   "cell_type": "code",
   "execution_count": 6,
   "id": "b8a012ab",
   "metadata": {},
   "outputs": [
    {
     "name": "stderr",
     "output_type": "stream",
     "text": [
      "d:\\PythonCode\\Langgraph-End-To-End\\langgraphvenv\\Lib\\site-packages\\tqdm\\auto.py:21: TqdmWarning: IProgress not found. Please update jupyter and ipywidgets. See https://ipywidgets.readthedocs.io/en/stable/user_install.html\n",
      "  from .autonotebook import tqdm as notebook_tqdm\n"
     ]
    }
   ],
   "source": [
    "from langchain_groq import ChatGroq\n",
    "llm_groq = ChatGroq(model=\"llama-3.3-70b-versatile\")"
   ]
  },
  {
   "cell_type": "code",
   "execution_count": 7,
   "id": "35e6d4b8",
   "metadata": {},
   "outputs": [
    {
     "data": {
      "text/plain": [
       "AIMessage(content=\"I'm just a language model, so I don't have emotions or feelings like humans do, but I'm functioning properly and ready to help with any questions or tasks you might have. How about you? How's your day going so far?\", additional_kwargs={}, response_metadata={'token_usage': {'completion_tokens': 50, 'prompt_tokens': 40, 'total_tokens': 90, 'completion_time': 0.103649029, 'prompt_time': 0.001801799, 'queue_time': 0.056355927, 'total_time': 0.105450828}, 'model_name': 'llama-3.3-70b-versatile', 'system_fingerprint': 'fp_9e1e8f8435', 'service_tier': 'on_demand', 'finish_reason': 'stop', 'logprobs': None}, id='run--99e51104-3805-4000-bb0e-03db6bfa96ad-0', usage_metadata={'input_tokens': 40, 'output_tokens': 50, 'total_tokens': 90})"
      ]
     },
     "execution_count": 7,
     "metadata": {},
     "output_type": "execute_result"
    }
   ],
   "source": [
    "llm_groq.invoke(\"Hi, How are you\")"
   ]
  },
  {
   "cell_type": "code",
   "execution_count": 56,
   "id": "abc5d11e",
   "metadata": {},
   "outputs": [],
   "source": [
    "from langchain_huggingface import HuggingFaceEmbeddings\n",
    "embeddings=HuggingFaceEmbeddings(model_name=\"all-MiniLM-L6-v2\")"
   ]
  },
  {
   "cell_type": "markdown",
   "id": "99efb465",
   "metadata": {},
   "source": [
    "###Predefined tool"
   ]
  },
  {
   "cell_type": "code",
   "execution_count": 8,
   "id": "3e508360",
   "metadata": {},
   "outputs": [
    {
     "name": "stdout",
     "output_type": "stream",
     "text": [
      "\u001b[32;1m\u001b[1;3mPage: LangChain\n",
      "Summary: LangChain is a software framework that helps facilitate the integration of large language models (LLMs) into applications. As a language model integration framework, LangChain's use-cases largely overlap with those of language models in general, including document analysis and summarization, chatbots, and code analysis.\n",
      "\n",
      "Page: C (programming language)\n",
      "Summary: C is a general-purpose programming language. It was created in the 1970s by Dennis Ritchie and remains widely used and influential. By design, C gives the programmer relatively direct access to the features of the typical CPU architecture, customized for the target instruction set. It has been and continues to be used to implement operating systems (especially kernels), device drivers, and protocol stacks, but its use in application software has been decreasing. C is used on computers that range from the largest supercomputers to the smallest microcontrollers and embedded systems.\n",
      "A successor to the programming language B, C was originally developed at Bell Labs by Ritchie between 1972 and 1973 to construct utilities running on Unix. It was applied to re-implementing the kernel of the Unix operating system. During the 1980s, C gradually gained popularity. It has become one of the most widely used programming languages, with C compilers available for practically all modern computer architectures and operating systems. The book The C Programming Language, co-authored by the original language designer, served for many years as the de facto standard for the language. C has been standardized since 1989 by the American National Standards Institute (ANSI) and, subsequently, jointly by the International Organization for Standardization (ISO) and the International Electrotechnical Commission (IEC).\n",
      "C is an imperative procedural language, supporting structured programming, lexical variable scope, and recursion, with a static type system. It was designed to be compiled to provide low-level access to memory and language constructs that map efficiently to machine instructions, all with minimal runtime support. Despite its low-level capabilities, the language was designed to encourage cross-platform programming. A standards-compliant C program written with portability in mind can be compiled for a wide variety of computer platforms and operating systems with few changes to its source code.\n",
      "Although neither C nor its standard library provide some popular features found in other languages, it is flexible enough to support them. For example, object orientation and garbage collection are provided by external libraries GLib Object System and Boehm garbage collector, respectively.\n",
      "Since 2000, C has consistently ranked among the top four languages in the TIOBE index, a measure of the popularity of programming languages.\n",
      "\n",
      "\n",
      "\n",
      "Page: Pharmacokinetics of estradiol\n",
      "Summary: The pharmacology of estradiol, an estrogen medication and naturally occurring steroid hormone, concerns its pharmacodynamics, pharmacokinetics, and various routes of administration.\n",
      "Estradiol is a naturally occurring and bioidentical estrogen, or an agonist of the estrogen receptor, the biological target of estrogens like endogenous estradiol. Due to its estrogenic activity, estradiol has antigonadotropic effects and can inhibit fertility and suppress sex hormone production in both women and men. Estradiol differs from non-bioidentical estrogens like conjugated estrogens and ethinylestradiol in various ways, with implications for tolerability and safety.\n",
      "Estradiol can be taken by mouth, held under the tongue, as a gel or patch that is applied to the skin, in through the vagina, by injection into muscle or fat, or through the use of an implant that is placed into fat, among other routes.\u001b[0mPage: LangChain\n",
      "Summary: LangChain is a software framework that helps facilitate the integration of large language models (LLMs) into applications. As a language model integration framework, LangChain's use-cases largely overlap with those of language models in general, including document analysis and summarization, chatbots, and code analysis.\n",
      "\n",
      "Page: C (programming language)\n",
      "Summary: C is a general-purpose programming language. It was created in the 1970s by Dennis Ritchie and remains widely used and influential. By design, C gives the programmer relatively direct access to the features of the typical CPU architecture, customized for the target instruction set. It has been and continues to be used to implement operating systems (especially kernels), device drivers, and protocol stacks, but its use in application software has been decreasing. C is used on computers that range from the largest supercomputers to the smallest microcontrollers and embedded systems.\n",
      "A successor to the programming language B, C was originally developed at Bell Labs by Ritchie between 1972 and 1973 to construct utilities running on Unix. It was applied to re-implementing the kernel of the Unix operating system. During the 1980s, C gradually gained popularity. It has become one of the most widely used programming languages, with C compilers available for practically all modern computer architectures and operating systems. The book The C Programming Language, co-authored by the original language designer, served for many years as the de facto standard for the language. C has been standardized since 1989 by the American National Standards Institute (ANSI) and, subsequently, jointly by the International Organization for Standardization (ISO) and the International Electrotechnical Commission (IEC).\n",
      "C is an imperative procedural language, supporting structured programming, lexical variable scope, and recursion, with a static type system. It was designed to be compiled to provide low-level access to memory and language constructs that map efficiently to machine instructions, all with minimal runtime support. Despite its low-level capabilities, the language was designed to encourage cross-platform programming. A standards-compliant C program written with portability in mind can be compiled for a wide variety of computer platforms and operating systems with few changes to its source code.\n",
      "Although neither C nor its standard library provide some popular features found in other languages, it is flexible enough to support them. For example, object orientation and garbage collection are provided by external libraries GLib Object System and Boehm garbage collector, respectively.\n",
      "Since 2000, C has consistently ranked among the top four languages in the TIOBE index, a measure of the popularity of programming languages.\n",
      "\n",
      "\n",
      "\n",
      "Page: Pharmacokinetics of estradiol\n",
      "Summary: The pharmacology of estradiol, an estrogen medication and naturally occurring steroid hormone, concerns its pharmacodynamics, pharmacokinetics, and various routes of administration.\n",
      "Estradiol is a naturally occurring and bioidentical estrogen, or an agonist of the estrogen receptor, the biological target of estrogens like endogenous estradiol. Due to its estrogenic activity, estradiol has antigonadotropic effects and can inhibit fertility and suppress sex hormone production in both women and men. Estradiol differs from non-bioidentical estrogens like conjugated estrogens and ethinylestradiol in various ways, with implications for tolerability and safety.\n",
      "Estradiol can be taken by mouth, held under the tongue, as a gel or patch that is applied to the skin, in through the vagina, by injection into muscle or fat, or through the use of an implant that is placed into fat, among other routes.\n"
     ]
    }
   ],
   "source": [
    "from langchain_community.tools import WikipediaQueryRun\n",
    "from langchain_community.utilities import WikipediaAPIWrapper\n",
    "\n",
    "api_wrapper = WikipediaAPIWrapper()\n",
    "tool = WikipediaQueryRun(api_wrapper=api_wrapper, return_direct=True, verbose=True)\n",
    "print(tool.run({\"query\":\"LangGraph\"}))"
   ]
  },
  {
   "cell_type": "code",
   "execution_count": 12,
   "id": "ec01bb9c",
   "metadata": {},
   "outputs": [
    {
     "data": {
      "text/plain": [
       "\"['https://www.youtube.com/watch?v=m9s1NQG3TNY&pp=ygULY2FycnltaW5hdGk%3D', 'https://www.youtube.com/watch?v=465iEeNOEBg&pp=ygULY2FycnltaW5hdGk%3D']\""
      ]
     },
     "execution_count": 12,
     "metadata": {},
     "output_type": "execute_result"
    }
   ],
   "source": [
    "from langchain_community.tools import YouTubeSearchTool\n",
    "\n",
    "tool2=YouTubeSearchTool()\n",
    "tool2.run(\"carryminati\")"
   ]
  },
  {
   "cell_type": "code",
   "execution_count": 13,
   "id": "798d6077",
   "metadata": {},
   "outputs": [],
   "source": [
    "\n",
    "from langchain_community.tools.tavily_search import TavilySearchResults"
   ]
  },
  {
   "cell_type": "code",
   "execution_count": 14,
   "id": "3a61913d",
   "metadata": {},
   "outputs": [
    {
     "name": "stderr",
     "output_type": "stream",
     "text": [
      "C:\\Users\\Aniruddha\\AppData\\Local\\Temp\\ipykernel_35668\\1442711075.py:1: LangChainDeprecationWarning: The class `TavilySearchResults` was deprecated in LangChain 0.3.25 and will be removed in 1.0. An updated version of the class exists in the :class:`~langchain-tavily package and should be used instead. To use it run `pip install -U :class:`~langchain-tavily` and import as `from :class:`~langchain_tavily import TavilySearch``.\n",
      "  tool = TavilySearchResults()\n"
     ]
    }
   ],
   "source": [
    "tool = TavilySearchResults()"
   ]
  },
  {
   "cell_type": "code",
   "execution_count": 15,
   "id": "b97a297e",
   "metadata": {},
   "outputs": [
    {
     "data": {
      "text/plain": [
       "[{'title': 'Trapped in the Mud at Burning Man 2025 – Daily Vlog Day 3',\n",
       "  'url': 'https://www.youtube.com/watch?v=P4gUjLh5BFs',\n",
       "  'content': 'Day 3 at Burning Man 2025 turned into pure survival. A massive rainstorm hit the playa, flooding everything and turning Black Rock City into',\n",
       "  'score': 0.70067},\n",
       " {'title': 'Burning Man Threatened by Dust Storm, Flood Warning - Newsweek',\n",
       "  'url': 'https://www.newsweek.com/burning-man-dust-storm-flood-warning-2118657',\n",
       "  'content': '# Burning Man Threatened by Dust Storm, Flood Warning\\n\\nPublished\\n\\nAug 25, 2025 at 06:22 AM EDT\\n\\nJoe Edwards\\n\\nLive News Reporter\\n\\nBurning Man attendees faced the threat of dust storms and heavy rain as the festival opened, with the National Weather Service (NWS) issuing weather alerts for northern and central Nevada.\\n\\n## Why It Matters\\n\\nBurning Man is a week-long festival set in the desert, where attendees create art, music and culture. [...] The National Weather Service forecast office in Elko, Nevada, said in a post on X, Sunday: \"Monsoonal moisture will surge northward into most of Northern and Central Nevada today through Wednesday, resulting in the likelihood of wetting thunderstorms each afternoon and evening. Heavy rain may result in minor flooding of recent burn scars, streams, and creeks.\"\\n\\n## What Happens Next\\n\\nThe Burning Man festival takes place from August 24 to September 1.\\n\\nGoogle Preferred Source Banner [...] The San Francisco Chronicle reported that campsites that had been erected early were damaged after a dust storm hit the desert before the festival began.\\n\\nA dust advisory issued Saturday by the NWS said that a \"wall of blowing dust\" coming off the Smoke Creek and Black Rock Desert playa areas was moving north at around 30 mph.\\n\\nThe agency warned of sudden reductions in visibility, which could be to less than a mile. It advised that travel should be delayed.',\n",
       "  'score': 0.5473921},\n",
       " {'title': 'Burning Man 2025 started Sunday, August 24, and thousands of ...',\n",
       "  'url': 'https://www.facebook.com/abc7news/videos/heres-a-look-at-sf-mens-journey-to-black-rock-city-ahead-of-burning-man-on-sunda/1003796195096711/',\n",
       "  'content': 'Burning Man 2025 started Sunday, August 24, and thousands of \"Burners\" were met with a massive dust storm. Last year, attendance was down after',\n",
       "  'score': 0.50915486},\n",
       " {'title': 'Burning Man 2025 opens with risk of rain, flash floods, high winds',\n",
       "  'url': 'https://www.rgj.com/story/news/2025/08/24/burning-man-2025-opens-with-risk-of-rain-flash-floods-high-winds/85808130007/',\n",
       "  'content': '“I’m not going to say it is going to happen or it’s not going to happen, but people should make preparations for their shelters,” she said. “We want people to have an idea of what could happen.” [...] The weather service started warning of possible monsoon-like conditions at least a week ahead of the festival. In 2023, heavy storms and rain stranded thousands of people and officials closed the gates in and out of the festival.\\n\\nWhile the Black Rock Desert and nearby town of Gerlach saw gusts topping 50 mph Saturday, there wasn’t much rain on the playa from bands of thunderstorms that hit the region. Reports of tents blowing away were all over Burning Man social media pages Sunday morning. [...] # Burning Man weather: Heat, humidity Sunday could put Black Rock City at risk of flooding\\n\\nPortrait of Siobhan McAndrew\\n\\nThe National Weather Service issued a flood watch on Sunday, the official first day of Burning Man, for the Black Rock Desert.\\n\\nRain could be an issue as 70,000 people head out to the playa over the next week. The annual festival runs Aug. 24 through Sept. 1.',\n",
       "  'score': 0.44608507},\n",
       " {'title': 'Burners defend Burning Man after several days of ... - YouTube',\n",
       "  'url': 'https://www.youtube.com/watch?v=2ksYMt2RzyA',\n",
       "  'content': \"It's been a wild ride for those either at Burning Man 2025 or trying to get there. Windstorms, thunder, lightning, and rain have hampered\",\n",
       "  'score': 0.34840176}]"
      ]
     },
     "execution_count": 15,
     "metadata": {},
     "output_type": "execute_result"
    }
   ],
   "source": [
    "\n",
    "tool.invoke({\"query\": \"What happened in the latest burning man floods\"})"
   ]
  },
  {
   "cell_type": "markdown",
   "id": "04d0ed7c",
   "metadata": {},
   "source": [
    "### Create a custom tool"
   ]
  },
  {
   "cell_type": "code",
   "execution_count": 20,
   "id": "275b4900",
   "metadata": {},
   "outputs": [],
   "source": [
    "from langchain.agents import initialize_agent, tool\n",
    "\n",
    "@tool\n",
    "def get_word_length(word: str) -> str:\n",
    "    \"\"\"Custom tool that greets a person by name.\"\"\"\n",
    "    return len(word)"
   ]
  },
  {
   "cell_type": "code",
   "execution_count": 21,
   "id": "30d4f27b",
   "metadata": {},
   "outputs": [
    {
     "data": {
      "text/plain": [
       "5"
      ]
     },
     "execution_count": 21,
     "metadata": {},
     "output_type": "execute_result"
    }
   ],
   "source": [
    "get_word_length.invoke(\"abcde\")"
   ]
  },
  {
   "cell_type": "code",
   "execution_count": 23,
   "id": "df8f305c",
   "metadata": {},
   "outputs": [],
   "source": [
    "@tool\n",
    "def multiply(a:int, b:int) -> int:\n",
    "    \"\"\"\n",
    "    Multiplying the numbers\n",
    "    \"\"\"\n",
    "    return a*b"
   ]
  },
  {
   "cell_type": "code",
   "execution_count": 25,
   "id": "89232c54",
   "metadata": {},
   "outputs": [],
   "source": [
    "@tool\n",
    "def summation(a:int, b:int) -> int:\n",
    "    \"\"\"\n",
    "    sum the numbers\n",
    "    \"\"\"\n",
    "    return a+b"
   ]
  },
  {
   "cell_type": "code",
   "execution_count": 24,
   "id": "601d9d7a",
   "metadata": {},
   "outputs": [
    {
     "name": "stdout",
     "output_type": "stream",
     "text": [
      "multiply\n",
      "Multiplying the numbers\n",
      "{'a': {'title': 'A', 'type': 'integer'}, 'b': {'title': 'B', 'type': 'integer'}}\n"
     ]
    }
   ],
   "source": [
    "print(multiply.name)\n",
    "print(multiply.description)\n",
    "print(multiply.args)"
   ]
  },
  {
   "cell_type": "code",
   "execution_count": 30,
   "id": "5a594265",
   "metadata": {},
   "outputs": [
    {
     "data": {
      "text/plain": [
       "12"
      ]
     },
     "execution_count": 30,
     "metadata": {},
     "output_type": "execute_result"
    }
   ],
   "source": [
    "summation.invoke({\"a\":5,\"b\":7})"
   ]
  },
  {
   "cell_type": "markdown",
   "id": "a8f58b51",
   "metadata": {},
   "source": [
    "## This is first version of langchain (Legacy now)"
   ]
  },
  {
   "cell_type": "code",
   "execution_count": 31,
   "id": "9abac343",
   "metadata": {},
   "outputs": [],
   "source": [
    "from langchain.agents import initialize_agent, Tool\n",
    "from langchain.agents import load_tools\n",
    "from langchain.agents import AgentType"
   ]
  },
  {
   "cell_type": "code",
   "execution_count": 32,
   "id": "8d571614",
   "metadata": {},
   "outputs": [],
   "source": [
    "tool=load_tools([\"wikipedia\"], llm_groq)"
   ]
  },
  {
   "cell_type": "code",
   "execution_count": 33,
   "id": "cad4cf42",
   "metadata": {},
   "outputs": [
    {
     "name": "stderr",
     "output_type": "stream",
     "text": [
      "C:\\Users\\Aniruddha\\AppData\\Local\\Temp\\ipykernel_35668\\1463107220.py:1: LangChainDeprecationWarning: LangChain agents will continue to be supported, but it is recommended for new use cases to be built with LangGraph. LangGraph offers a more flexible and full-featured framework for building agents, including support for tool-calling, persistence of state, and human-in-the-loop workflows. For details, refer to the `LangGraph documentation <https://langchain-ai.github.io/langgraph/>`_ as well as guides for `Migrating from AgentExecutor <https://python.langchain.com/docs/how_to/migrate_agent/>`_ and LangGraph's `Pre-built ReAct agent <https://langchain-ai.github.io/langgraph/how-tos/create-react-agent/>`_.\n",
      "  agent=initialize_agent(tool, llm_groq, agent=AgentType.CHAT_ZERO_SHOT_REACT_DESCRIPTION, verbose=True)\n"
     ]
    }
   ],
   "source": [
    "agent=initialize_agent(tool, llm_groq, agent=AgentType.CHAT_ZERO_SHOT_REACT_DESCRIPTION, verbose=True)"
   ]
  },
  {
   "cell_type": "code",
   "execution_count": 35,
   "id": "f2d8bdb8",
   "metadata": {},
   "outputs": [
    {
     "name": "stdout",
     "output_type": "stream",
     "text": [
      "\n",
      "\n",
      "\u001b[1m> Entering new AgentExecutor chain...\u001b[0m\n",
      "\u001b[32;1m\u001b[1;3mQuestion: What is Llama model\n",
      "Thought: To answer this question, I should search for information about the Llama model on Wikipedia.\n",
      "Action:\n",
      "```\n",
      "{\n",
      "  \"action\": \"wikipedia\",\n",
      "  \"action_input\": \"Llama model\"\n",
      "}\n",
      "```\n",
      "\u001b[0m\n",
      "Observation: \u001b[36;1m\u001b[1;3mPage: Llama (language model)\n",
      "Summary: Llama (Large Language Model Meta AI) is a family of large language models (LLMs) released by Meta AI starting in February 2023. The latest version is Llama 4, released in April 2025.\n",
      "Llama models come in different sizes, ranging from 1 billion to 2 trillion parameters. Initially only a foundation model, starting with Llama 2, Meta AI released instruction fine-tuned versions alongside foundation models.\n",
      "Model weights for the first version of Llama were only available to researchers on a case-by-case basis, under a non-commercial license. Unauthorized copies of the first model were shared via BitTorrent. Subsequent versions of Llama were made accessible outside academia and released under licenses that permitted some commercial use.\n",
      "Alongside the release of Llama 3, Meta added virtual assistant features to Facebook and WhatsApp in select regions, and a standalone website. Both services use a Llama 3 model.\n",
      "\n",
      "Page: Llama.cpp\n",
      "Summary: llama.cpp is an open source software library that performs inference on various large language models such as Llama. It is co-developed alongside the GGML project, a general-purpose tensor library.\n",
      "Command-line tools are included with the library, alongside a server with a simple web interface.\n",
      "\n",
      "Page: Llama Firearms\n",
      "Summary: Llama Firearms, officially known as  Llama-Gabilondo y Cia SA, was a Spanish arms company founded in 1904 under the name Gabilondo and Urresti. Its headquarters were in Eibar in the Basque Country, Spain, but they also had workshops during different times in Elgoibar and Vitoria. The company manufactured  moderate-priced revolvers and  self-chambering pistols in a wide variety of models. These were popular mainly in the European and Latin American export market, as well as domestically in Spain.\u001b[0m\n",
      "Thought:\u001b[32;1m\u001b[1;3mBased on the information from Wikipedia, it seems that there are multiple entities referred to as \"Llama\". However, given the context of recent developments in artificial intelligence, I will focus on the Llama model related to large language models.\n",
      "\n",
      "The Llama model refers to a family of large language models (LLMs) released by Meta AI, starting with the first version in February 2023. These models come in various sizes, ranging from 1 billion to 2 trillion parameters, and have been released in different versions, including Llama 2, Llama 3, and Llama 4.\n",
      "\n",
      "Thought: I now know the final answer\n",
      "\n",
      "Final Answer: The Llama model is a family of large language models (LLMs) released by Meta AI, used for various natural language processing tasks, and comes in different sizes and versions.\u001b[0m\n",
      "\n",
      "\u001b[1m> Finished chain.\u001b[0m\n"
     ]
    },
    {
     "data": {
      "text/plain": [
       "'The Llama model is a family of large language models (LLMs) released by Meta AI, used for various natural language processing tasks, and comes in different sizes and versions.'"
      ]
     },
     "execution_count": 35,
     "metadata": {},
     "output_type": "execute_result"
    }
   ],
   "source": [
    "agent.run(\"what is Lamma model\")"
   ]
  },
  {
   "cell_type": "code",
   "execution_count": 36,
   "id": "166ea226",
   "metadata": {},
   "outputs": [],
   "source": [
    "from langchain_community.tools.tavily_search import TavilySearchResults"
   ]
  },
  {
   "cell_type": "code",
   "execution_count": 37,
   "id": "d7722048",
   "metadata": {},
   "outputs": [],
   "source": [
    "search=TavilySearchResults()"
   ]
  },
  {
   "cell_type": "code",
   "execution_count": 51,
   "id": "2494054f",
   "metadata": {},
   "outputs": [
    {
     "name": "stdout",
     "output_type": "stream",
     "text": [
      "[TavilySearchResults(api_wrapper=TavilySearchAPIWrapper(tavily_api_key=SecretStr('**********')))]\n"
     ]
    }
   ],
   "source": [
    "tools=[search]\n",
    "print(tools)"
   ]
  },
  {
   "cell_type": "code",
   "execution_count": 38,
   "id": "3ebffe4a",
   "metadata": {},
   "outputs": [
    {
     "data": {
      "text/plain": [
       "[{'title': 'Bangalore weather in October 2025 - Weather25.com',\n",
       "  'url': 'https://www.weather25.com/asia/india/karnataka/bangalore?page=month&month=October',\n",
       "  'content': '# Bangalore weather in October 2025 | January | **29°** / 17° | 1 | 31 | 0 | 12 mm | Good | Bangalore in January | | February | **32°** / 18° | 1 | 28 | 0 | 14 mm | Good | Bangalore in February | | July | **28°** / 20° | 9 | 22 | 0 | 141 mm | Good | Bangalore in July | | September | **28°** / 20° | 15 | 15 | 0 | 304 mm | Good | Bangalore in September | | October | **28°** / 19° | 13 | 18 | 0 | 297 mm | Good | Bangalore in October | The average temperature in Bangalore in October is 19/28° C.',\n",
       "  'score': 0.98567},\n",
       " {'title': 'Moderate rain and improved air quality expected on October 19, 2025',\n",
       "  'url': 'https://timesofindia.indiatimes.com/city/bengaluru/bangalore-weather-update-moderate-rain-and-cool-temperatures-expected/articleshow/124681011.cms',\n",
       "  'content': 'Bangalore is set for a wet Saturday, October 19, 2025, with moderate rain and cool temperatures ranging from 20.5°C to 26.2°C. High humidity',\n",
       "  'score': 0.98521},\n",
       " {'title': 'Weather in Bangalore in October 2025 (State of Karnātaka)',\n",
       "  'url': 'https://world-weather.info/forecast/india/bangalor/october-2025/',\n",
       "  'content': \"* Weather * Weather in Bangalore # Weather in Bangalore in October 2025 * +82° 4.7 mph S 26.9 inHg69 %06:08 am06:09 pm +82° +73° +84° +73° +82° +73° +84° +75° 3.4 mph NW 26.9 inHg72 %06:08 am06:07 pm +84° +72° +82° +73° +82° +72° +82° +72° +81° +72° +81° +72° +81° +72° +82° +73° +82° +72° +82° +73° +82° +73° +82° +73° +82° +73° +82° +72° +82° +72° +82° +72° +82° +73° +82° +72° +82° +72° +84° +70° +82° +72° +82° +70° +84° +72° +81° +70° +82° +70° +81° +70° HourlyWeek10-Day14-Day30-DayYear Weather in New Delhi**+86°** Avadi**+91°** Kozhikode**+86°** Ambattur**+91°** Chennai**+91°** Dindigul**+93°** Thanjavur**+99°** Mangalore**+82°** Nellore**+93°** Tiruchchirāppalli**+97°** Puducherry**+95°** Bellary**+88°** Mysore**+81°** Salem**+88°** Anantapur**+88°** Tirupati**+90°** Pynampuram**+93°** world's temperature today day day +81°\",\n",
       "  'score': 0.98322},\n",
       " {'title': 'Bengaluru, Karnataka, India Monthly Weather - AccuWeather',\n",
       "  'url': 'https://www.accuweather.com/en/in/bengaluru/204108/october-weather/204108',\n",
       "  'content': 'Get the monthly weather forecast for Bengaluru, Karnataka, India, including daily high/low, historical averages, to help you plan ahead.',\n",
       "  'score': 0.97334},\n",
       " {'title': 'Weather in Bengaluru in October 2025 - Detailed Forecast',\n",
       "  'url': 'https://www.easeweather.com/asia/india/karnataka/bangalore-urban/bengaluru/october',\n",
       "  'content': '# Weather in Bengaluru for October 2025 Your guide to Bengaluru weather in October - trends and predictions * Expect cooler weather in the next days in Bengaluru with the forecast suggesting a temperature of 25.1\\xa0°C, lower than the historical average. * In general, the average temperature in Bengaluru at the beginning of October is 27\\xa0°C. * Bengaluru experiences **heavy rainfall** in October, with over 20 rainy days and an average total precipitation 205.9\\xa0mm. ## Bengaluru Weather October ## Temperatures trend during October in Bengaluru ## October weather in Bengaluru day by day Significant rainfall exceeding 205.9\\xa0mm is expected in Bengaluru during October, occurring over more than 26 days.',\n",
       "  'score': 0.96761}]"
      ]
     },
     "execution_count": 38,
     "metadata": {},
     "output_type": "execute_result"
    }
   ],
   "source": [
    "search.invoke(\"what is the weather in bangalore\")"
   ]
  },
  {
   "cell_type": "code",
   "execution_count": 40,
   "id": "1674bc0c",
   "metadata": {},
   "outputs": [],
   "source": [
    "from langchain import hub"
   ]
  },
  {
   "cell_type": "code",
   "execution_count": 41,
   "id": "f306d425",
   "metadata": {},
   "outputs": [],
   "source": [
    "prompt= hub.pull(\"hwchase17/openai-functions-agent\")"
   ]
  },
  {
   "cell_type": "code",
   "execution_count": 43,
   "id": "77f161a0",
   "metadata": {},
   "outputs": [
    {
     "data": {
      "text/plain": [
       "[SystemMessagePromptTemplate(prompt=PromptTemplate(input_variables=[], input_types={}, partial_variables={}, template='You are a helpful assistant'), additional_kwargs={}),\n",
       " MessagesPlaceholder(variable_name='chat_history', optional=True),\n",
       " HumanMessagePromptTemplate(prompt=PromptTemplate(input_variables=['input'], input_types={}, partial_variables={}, template='{input}'), additional_kwargs={}),\n",
       " MessagesPlaceholder(variable_name='agent_scratchpad')]"
      ]
     },
     "execution_count": 43,
     "metadata": {},
     "output_type": "execute_result"
    }
   ],
   "source": [
    "prompt.messages"
   ]
  },
  {
   "cell_type": "code",
   "execution_count": 46,
   "id": "b0a9d5a4",
   "metadata": {},
   "outputs": [],
   "source": [
    "from langchain.agents import create_tool_calling_agent\n",
    "\n",
    "agent= create_tool_calling_agent(llm_groq, tools, prompt)"
   ]
  },
  {
   "cell_type": "code",
   "execution_count": 47,
   "id": "c0e151ab",
   "metadata": {},
   "outputs": [],
   "source": [
    "from langchain.agents import AgentExecutor\n",
    "agent_executor=AgentExecutor(agent=agent, tools=tools, verbose=True)"
   ]
  },
  {
   "cell_type": "code",
   "execution_count": 50,
   "id": "0fc2843f",
   "metadata": {},
   "outputs": [
    {
     "name": "stdout",
     "output_type": "stream",
     "text": [
      "\n",
      "\n",
      "\u001b[1m> Entering new AgentExecutor chain...\u001b[0m\n",
      "\u001b[32;1m\u001b[1;3m\n",
      "Invoking: `tavily_search_results_json` with `{'query': 'LangGraph Wikipedia'}`\n",
      "\n",
      "\n",
      "\u001b[0m\u001b[36;1m\u001b[1;3m[{'title': 'What is LangGraph?', 'url': 'https://www.analyticsvidhya.com/blog/2024/07/langgraph-revolutionizing-ai-agent/', 'content': 'LangGraph is a library built on top of Langchain that is designed to facilitate the creation of cyclic graphs for large language model (LLM) – based AI agents.\\n It views agent Objective Points about LangGraph and workflows as cyclic graph topologies, allowing for more variable and nuanced agent behaviors than linear execution models. [...] To sum up, LangGraph is a major advancement in the development of AI agents. It enables developers to push the limits of what’s possible with AI agents by eliminating the shortcomings of earlier systems and offering a flexible, graph-based framework for agent construction and execution. LangGraph is positioned to influence the direction of artificial intelligence significantly in the future. [...] In response to these constraints, LangGraph presents a novel paradigm for agent building and runtime construction. Large Language Models (LLMs) are the foundation for designing sophisticated AI agents, and LangGraph, built on top of Langchain, is intended to make the process of creating cyclic graphs easier.', 'score': 0.84767824}, {'title': 'What is LangGraph?', 'url': 'https://www.geeksforgeeks.org/machine-learning/what-is-langgraph/', 'content': '# What is LangGraph?\\n\\nLast Updated : \\n10 Oct, 2025\\n\\nSuggest changes\\n\\n1 Likes\\n\\nLangGraph is an open-source framework built by LangChain that streamlines the creation and management of AI agent workflows. At its core, LangGraph combines large language models (LLMs) with graph-based architectures allowing developers to map, organize and optimize how AI agents interact and make decisions.', 'score': 0.82220376}, {'title': 'LangGraph Tutorial: What Is LangGraph and How to Use It?', 'url': 'https://www.datacamp.com/tutorial/langgraph-tutorial', 'content': \"Imagine you're building a complex, multi-agent large language model (LLM) application. It's exciting, but it comes with challenges: managing the state of various agents, coordinating their interactions, and handling errors effectively. This is where LangGraph can help.\\n\\nLangGraph is a library within the LangChain ecosystem designed to tackle these challenges head-on. LangGraph provides a framework for defining, coordinating, and executing multiple LLM agents (or chains) in a structured manner. [...] # LangGraph Tutorial: What Is LangGraph and How to Use It?\\n\\nLangGraph is a library within the LangChain ecosystem that provides a framework for defining, coordinating, and executing multiple LLM agents (or chains) in a structured and efficient manner.\\n\\nJun 26, 2024  · 12 min read [...] For applications requiring autonomous decision-making, LangGraph enables the creation of agents that can perform tasks independently based on user inputs and predefined logic.\\n\\nThese agents can execute complex workflows, interact with other systems, and adapt to new information dynamically. LangGraph's structured framework ensures that each agent operates efficiently and effectively, making it suitable for tasks like automated customer support, data processing, and system monitoring.\", 'score': 0.7827459}, {'title': \"Introduction to LangGraph: A Beginner's Guide\", 'url': 'https://medium.com/@cplog/introduction-to-langgraph-a-beginners-guide-14f9be027141', 'content': 'LangGraph is a powerful tool for building stateful, multi-actor applications with Large Language Models (LLMs). It extends the LangChain library, allowing you to coordinate multiple chains (or actors) across multiple steps of computation in a cyclic manner. In this article, we’ll introduce LangGraph, walk you through its basic concepts, and share some insights and common points of confusion for beginners.\\n\\n## What is LangGraph? [...] LangGraph is a library built on top of LangChain, designed to add cyclic computational capabilities to your LLM applications. While LangChain allows you to define chains of computation (Directed Acyclic Graphs or DAGs), LangGraph introduces the ability to add cycles, enabling more complex, agent-like behaviors where you can call an LLM in a loop, asking it what action to take next.\\n\\n## Key Concepts [...] Stateful Graph: LangGraph revolves around the concept of a stateful graph, where each node in the graph represents a step in your computation, and the graph maintains a state that is passed around and updated as the computation progresses.\\n Nodes: Nodes are the building blocks of your LangGraph. Each node represents a function or a computation step. You define nodes to perform specific tasks, such as processing input, making decisions, or interacting with external APIs.', 'score': 0.7498395}, {'title': 'Tavily search & wikipedia integration | Langgraph tutorial - YouTube', 'url': 'https://www.youtube.com/watch?v=hR-9gZoUMxw', 'content': \"Langgraph is a powerful tool designed for visualizing and managing complex language data. It allows users to create and manipulate nodes that represent various linguistic elements, such as words, phrases, or concepts. With Langgraph, you can easily add conditional edges that define relationships between these nodes, enabling a deeper understanding of language structures and connections. Whether you're a linguist, a language learner, or a developer, Langgraph provides an intuitive interface to\", 'score': 0.74229145}]\u001b[0m\u001b[32;1m\u001b[1;3mLangGraph is a library built on top of Langchain that is designed to facilitate the creation of cyclic graphs for large language model (LLM) – based AI agents. It enables developers to push the limits of what’s possible with AI agents by eliminating the shortcomings of earlier systems and offering a flexible, graph-based framework for agent construction and execution. LangGraph is positioned to influence the direction of artificial intelligence significantly in the future. It provides a framework for defining, coordinating, and executing multiple LLM agents (or chains) in a structured manner, allowing for more variable and nuanced agent behaviors than linear execution models. LangGraph is used for building stateful, multi-actor applications with Large Language Models (LLMs) and extends the LangChain library, allowing you to coordinate multiple chains (or actors) across multiple steps of computation in a cyclic manner.\u001b[0m\n",
      "\n",
      "\u001b[1m> Finished chain.\u001b[0m\n"
     ]
    },
    {
     "data": {
      "text/plain": [
       "{'input': 'Find me the Wikipedia page for LangGraph and tell me what it is about',\n",
       " 'output': 'LangGraph is a library built on top of Langchain that is designed to facilitate the creation of cyclic graphs for large language model (LLM) – based AI agents. It enables developers to push the limits of what’s possible with AI agents by eliminating the shortcomings of earlier systems and offering a flexible, graph-based framework for agent construction and execution. LangGraph is positioned to influence the direction of artificial intelligence significantly in the future. It provides a framework for defining, coordinating, and executing multiple LLM agents (or chains) in a structured manner, allowing for more variable and nuanced agent behaviors than linear execution models. LangGraph is used for building stateful, multi-actor applications with Large Language Models (LLMs) and extends the LangChain library, allowing you to coordinate multiple chains (or actors) across multiple steps of computation in a cyclic manner.'}"
      ]
     },
     "execution_count": 50,
     "metadata": {},
     "output_type": "execute_result"
    }
   ],
   "source": [
    "agent_executor.invoke({\"input\":\"Find me the Wikipedia page for LangGraph and tell me what it is about\"})"
   ]
  },
  {
   "cell_type": "markdown",
   "id": "a5b48595",
   "metadata": {},
   "source": [
    "1. RAG tool\n",
    "2. ReAct\n",
    "3. custom tool with ReAct agent\n",
    "4. agent code from latest versions(v0.2 and v0.3)"
   ]
  },
  {
   "cell_type": "code",
   "execution_count": 52,
   "id": "d2856cdb",
   "metadata": {},
   "outputs": [],
   "source": [
    "from langchain_community.document_loaders import WebBaseLoader\n",
    "from langchain_community.vectorstores import FAISS\n",
    "from langchain_text_splitters import RecursiveCharacterTextSplitter"
   ]
  },
  {
   "cell_type": "code",
   "execution_count": 53,
   "id": "3d1cee3d",
   "metadata": {},
   "outputs": [],
   "source": [
    "loader = WebBaseLoader(\"https://docs.smith.langchain.com/overview\")\n",
    "docs = loader.load()"
   ]
  },
  {
   "cell_type": "code",
   "execution_count": 54,
   "id": "2ad81b9e",
   "metadata": {},
   "outputs": [],
   "source": [
    "documents = RecursiveCharacterTextSplitter(\n",
    "    chunk_size=1000, chunk_overlap=200\n",
    ").split_documents(docs)"
   ]
  },
  {
   "cell_type": "code",
   "execution_count": 57,
   "id": "a8867eba",
   "metadata": {},
   "outputs": [],
   "source": [
    "vector = FAISS.from_documents(documents,embeddings)\n",
    "retriever = vector.as_retriever()"
   ]
  },
  {
   "cell_type": "code",
   "execution_count": 58,
   "id": "20ec398c",
   "metadata": {},
   "outputs": [
    {
     "data": {
      "text/plain": [
       "Document(id='f1caa913-8a23-4185-9966-d74864931ba9', metadata={'source': 'https://docs.smith.langchain.com/overview', 'title': 'LangSmith docs - Docs by LangChain', 'language': 'en'}, page_content='Copy the key and save it securely.\\nOnce your account and API key are ready, choose a quickstart to begin building with LangSmith:\\nObservabilityGain visibility into every step your application takes to debug faster and improve reliability.Start tracingEvaluationMeasure and track quality over time to ensure your AI applications are consistent and trustworthy.Evaluate your appDeploymentDeploy your agents as LangGraph Servers, ready to scale in production.Deploy your agentsPrompt TestingIterate on prompts with built-in versioning and collaboration to ship improvements faster.Test your promptsStudioUse a visual interface to design, test, and refine applications end-to-end.Develop with StudioHostingHost LangSmith in the cloud, in your environment, or hybrid to match your infrastructure and compliance needs.Choose your hosting mode\\n\\u200bWorkflow\\nLangSmith combines observability, evaluation, deployment, and hosting in one integrated workflow—from local development to production.')"
      ]
     },
     "execution_count": 58,
     "metadata": {},
     "output_type": "execute_result"
    }
   ],
   "source": [
    "retriever.invoke(\"how to upload a dataset\")[0]"
   ]
  },
  {
   "cell_type": "code",
   "execution_count": 59,
   "id": "a42978ea",
   "metadata": {},
   "outputs": [],
   "source": [
    "from langchain.tools.retriever import create_retriever_tool\n",
    "retriever_tool = create_retriever_tool(\n",
    "    retriever,\n",
    "    \"langsmith_search\",\n",
    "    \"Search for information about LangSmith. For any questions about LangSmith, you must use this tool!\",\n",
    ")"
   ]
  },
  {
   "cell_type": "code",
   "execution_count": 60,
   "id": "e6507478",
   "metadata": {},
   "outputs": [],
   "source": [
    "tools=[search, retriever_tool]"
   ]
  },
  {
   "cell_type": "code",
   "execution_count": 62,
   "id": "02dea766",
   "metadata": {},
   "outputs": [],
   "source": [
    "from langchain.agents import create_tool_calling_agent\n",
    "\n",
    "agent = create_tool_calling_agent(llm_groq, tools, prompt)"
   ]
  },
  {
   "cell_type": "code",
   "execution_count": 63,
   "id": "6ac0f35a",
   "metadata": {},
   "outputs": [],
   "source": [
    "from langchain.agents import AgentExecutor\n",
    "\n",
    "agent_executor = AgentExecutor(agent=agent, tools=tools, verbose=True)"
   ]
  },
  {
   "cell_type": "code",
   "execution_count": 64,
   "id": "a82b85bd",
   "metadata": {},
   "outputs": [
    {
     "name": "stdout",
     "output_type": "stream",
     "text": [
      "\n",
      "\n",
      "\u001b[1m> Entering new AgentExecutor chain...\u001b[0m\n",
      "\u001b[32;1m\u001b[1;3m\n",
      "Invoking: `langsmith_search` with `{'query': 'what is a LangSmith'}`\n",
      "\n",
      "\n",
      "\u001b[0m\u001b[33;1m\u001b[1;3mLangSmith docs - Docs by LangChainSkip to main contentLangGraph Platform is now part of LangSmith. Check out the Changelog for more information.Docs by LangChain home pageLangSmithSearch...⌘KGitHubTry LangSmithTry LangSmithSearch...NavigationLangSmith docsGet startedObservabilityEvaluationPrompt engineeringDeploymentHostingOverviewPlansCreate an account and API keyAccount administrationOverviewSet up a workspaceManage organizations using the APIManage billingSet up resource tagsUser managementReferenceLangSmith Python SDKLangSmith JS/TS SDKLangGraph Python SDKLangGraph JS/TS SDKLangSmith APILangGraph Server APIControl Plane API for LangSmith DeploymentAdditional resourcesReleases & changelogsData managementAuthentication methodsFAQsRegions FAQPricing FAQLangSmith docsCopy pageCopy pageLangSmith provides tools for developing, debugging, and deploying LLM applications.\n",
      "It helps you trace requests, evaluate outputs, test prompts, and manage deployments in one place.\n",
      "\n",
      "It helps you trace requests, evaluate outputs, test prompts, and manage deployments in one place.\n",
      "LangSmith is framework agnostic, so you can use it with or without LangChain’s open-source libraries\n",
      "langchain and langgraph.\n",
      "Prototype locally, then move to production with integrated monitoring and evaluation to build more reliable AI systems.\n",
      "​Get started\n",
      "Create an accountSign up at smith.langchain.com (no credit card required).\n",
      "You can log in with Google, GitHub, or email.Create an API keyGo to your Settings page → API Keys → Create API Key.\n",
      "Copy the key and save it securely.\n",
      "Once your account and API key are ready, choose a quickstart to begin building with LangSmith:\n",
      "\n",
      "Copy the key and save it securely.\n",
      "Once your account and API key are ready, choose a quickstart to begin building with LangSmith:\n",
      "ObservabilityGain visibility into every step your application takes to debug faster and improve reliability.Start tracingEvaluationMeasure and track quality over time to ensure your AI applications are consistent and trustworthy.Evaluate your appDeploymentDeploy your agents as LangGraph Servers, ready to scale in production.Deploy your agentsPrompt TestingIterate on prompts with built-in versioning and collaboration to ship improvements faster.Test your promptsStudioUse a visual interface to design, test, and refine applications end-to-end.Develop with StudioHostingHost LangSmith in the cloud, in your environment, or hybrid to match your infrastructure and compliance needs.Choose your hosting mode\n",
      "​Workflow\n",
      "LangSmith combines observability, evaluation, deployment, and hosting in one integrated workflow—from local development to production.\n",
      "\n",
      "Edit the source of this page on GitHubWas this page helpful?YesNoPricing plansNext⌘IDocs by LangChain home pagegithubxlinkedinyoutubeResourcesForumChangelogLangChain AcademyTrust CenterCompanyAboutCareersBloggithubxlinkedinyoutubePowered by Mintlify\u001b[0m\u001b[32;1m\u001b[1;3mLangSmith is a tool for developing, debugging, and deploying Large Language Model (LLM) applications. It provides features such as observability, evaluation, deployment, and hosting, allowing users to trace requests, evaluate outputs, test prompts, and manage deployments in one place. LangSmith is framework-agnostic, meaning it can be used with or without LangChain's open-source libraries, and it offers a visual interface for designing, testing, and refining applications end-to-end.\u001b[0m\n",
      "\n",
      "\u001b[1m> Finished chain.\u001b[0m\n"
     ]
    },
    {
     "data": {
      "text/plain": [
       "{'input': 'hi! what is a langsmith?',\n",
       " 'output': \"LangSmith is a tool for developing, debugging, and deploying Large Language Model (LLM) applications. It provides features such as observability, evaluation, deployment, and hosting, allowing users to trace requests, evaluate outputs, test prompts, and manage deployments in one place. LangSmith is framework-agnostic, meaning it can be used with or without LangChain's open-source libraries, and it offers a visual interface for designing, testing, and refining applications end-to-end.\"}"
      ]
     },
     "execution_count": 64,
     "metadata": {},
     "output_type": "execute_result"
    }
   ],
   "source": [
    "agent_executor.invoke({\"input\": \"hi! what is a langsmith?\"})"
   ]
  },
  {
   "cell_type": "code",
   "execution_count": 65,
   "id": "59ea3c43",
   "metadata": {},
   "outputs": [
    {
     "name": "stdout",
     "output_type": "stream",
     "text": [
      "\n",
      "\n",
      "\u001b[1m> Entering new AgentExecutor chain...\u001b[0m\n",
      "\u001b[32;1m\u001b[1;3m\n",
      "Invoking: `tavily_search_results_json` with `{'query': 'San Francisco weather'}`\n",
      "\n",
      "\n",
      "\u001b[0m\u001b[36;1m\u001b[1;3m[{'title': 'Weather in San Francisco, California for October 2025', 'url': 'https://www.easeweather.com/north-america/united-states/california/city-and-county-of-san-francisco/san-francisco/october', 'content': 'Until now, October 2025 in San Francisco is cooler than usual, with temperatures averaging 15.6 °F, this is -4.1 °F below the typical seasonal average.\\n Expect cooler weather in the next days in San Francisco with the forecast suggesting a temperature of 18.5 °F, lower than the historical average. [...] | Oct. 22 | Sunny | 19° /14° | 0 mm | 5 |\\n| Oct. 23 | Sunny | 20° /15° | 0 mm | 5 |\\n| Oct. 24 | Sunny | 17° /14° | 0 mm | 5 |\\n| Oct. 25 | Patchy rain possible | 17° /14° | 1.1 mm | 4 |\\n| Oct. 26 | Patchy rain possible | 15° /13° | 0.9 mm | 3 |\\n| Oct. 27 | Sunny | 17° /12° | 0 mm | 4 |\\n| Oct. 28 | Sunny | 19° /14° | 0 mm | 5 |\\n| Oct. 29 | Sunny | 21° /16° | 0 mm | 5 |\\n| Oct. 30 | Partly cloudy | 17° /11° | 0 mm | 5 |\\n| Oct. 31 | Overcast | 17° /11° | 0.5 mm | 5 |\\n| Next |', 'score': 0.91901255}, {'title': 'Weather San Francisco in October 2025: Temperature & Climate', 'url': 'https://en.climate-data.org/north-america/united-states-of-america/california/san-francisco-385/t/october-10/', 'content': \"| Max. Temperature °C (°F) | 14 °C (57.3) °F | 14.9 °C (58.7) °F | 16.2 °C (61.2) °F | 17.4 °C (63.3) °F | 19.2 °C (66.5) °F | 21.5 °C (70.8) °F | 21.8 °C (71.2) °F | 22.2 °C (71.9) °F | 23.1 °C (73.6) °F | 21.3 °C (70.3) °F | 17.1 °C (62.8) °F | 13.9 °C (57.1) °F |\\n| Precipitation / Rainfall mm (in) | 113 (4) | 118 (4) | 83 (3) | 40 (1) | 21 (0) | 6 (0) | 2 (0) | 2 (0) | 3 (0) | 25 (0) | 57 (2) | 111 (4) |\\n| Humidity(%) | 79% | 80% | 78% | 72% | 70% | 69% | 74% | 74% | 71% | 70% | 76% | 78% | [...] | Min. Temperature °C (°F) | 6.2 °C (43.2) °F | 7.1 °C (44.8) °F | 8.2 °C (46.8) °F | 8.9 °C (48.1) °F | 10.3 °C (50.6) °F | 11.8 °C (53.3) °F | 12.7 °C (54.9) °F | 13.3 °C (55.9) °F | 13.1 °C (55.6) °F | 11.9 °C (53.4) °F | 9 °C (48.2) °F | 6.8 °C (44.2) °F | [...] October in San Francisco brings mild and comfortable temperatures, making it a delightful time to visit. The average temperature during this month is around 60.3°F (15.7°C). On warmer days, the highs can reach about 70.3°F (21.3°C), providing perfect weather for exploring the city's outdoor attractions or enjoying a stroll along the waterfront. During cooler nights, temperatures might drop to approximately 53.4°F (11.9°C), so having a light jacket handy for evening outings is advisable. This\", 'score': 0.9104262}, {'title': 'San Francisco weather in October 2025 | Weather25.com', 'url': 'https://www.weather25.com/north-america/usa/california/san-francisco?page=month&month=October', 'content': '| 19 Image 46: Light rain shower 16°/13° | 20 Image 47: Patchy rain possible 15°/13° | 21 Image 48: Sunny 17°/13° | 22 Image 49: Sunny 18°/13° | 23 Image 50: Sunny 19°/14° | 24 Image 51: Partly cloudy 18°/15° | 25 Image 52: Cloudy 19°/15° |\\n| 26 Image 53: Sunny 20°/13° | 27 Image 54: Sunny 19°/12° | 28 Image 55: Sunny 20°/12° | 29 Image 56: Sunny 19°/12° | 30 Image 57: Partly cloudy 18°/12° | 31 Image 58: Partly cloudy 19°/12° |  | [...] The average weather in San Francisco in October\\n\\nThe temperatures in San Francisco in October are comfortable with low of 13°C and and high up to 23°C.\\n\\nThe wather in San Francisco in October can vary between cold and nice weather days. Expect a few rainy days but usually not more than 3.\\n\\nOur weather forecast can give you a great sense of what weather to expect in San Francisco in October 2025. [...] | Sun | Mon | Tue | Wed | Thu | Fri | Sat |\\n ---  ---  --- \\n|  |  |  | 1 Image 28: Sunny 22°/15° | 2 Image 29: Sunny 22°/15° | 3 Image 30: Sunny 22°/14° | 4 Image 31: Partly cloudy 20°/13° |\\n| 5 Image 32: Sunny 23°/15° | 6 Image 33: Partly cloudy 22°/15° | 7 Image 34: Partly cloudy 21°/14° | 8 Image 35: Overcast 19°/13° | 9 Image 36: Partly cloudy 18°/12° | 10 Image 37: Sunny 18°/13° | 11 Image 38: Partly cloudy 19°/12° |', 'score': 0.9035075}, {'title': 'October 2025 Weather History in South San Francisco California ...', 'url': 'https://weatherspark.com/h/m/568/2025/10/Historical-Weather-in-October-2025-in-South-San-Francisco-California-United-States', 'content': '|  --- | | Dew Pt. | 48.9°F  dry | | Rel. Humidity | 86% |  Precipitation  No Report  Wind  0.0 mph calm  Cloud Cover  Mostly Cloudy   2,900 ft   |  |  | Mostly Clear 2,000 ft |   |  |  |  --- | | Vis. | 10.00 mi or greater | | Alt. | 29.74 inHg |  Raw: KSFO 141513Z 00000KT 10SM FEW020 BKN029 12/09 A2974 RMK AO2 T01170094  This report shows the past weather for South San Francisco, providing a weather history for October 2025. It features all historical weather data series we have available, [...] 7% | 4:40 AM | E | 5:09 PM | W  10:56 AM | S | 247,121 mi | | 19 |  | 3% | 5:39 AM | E | 5:31 PM | W  11:36 AM | S | 248,920 mi | | 20 |  | 0% | 6:39 AM | ESE | 5:53 PM | WSW  12:17 PM | S | 250,392 mi | | 21 |  | 0% | 7:39 AM | ESE | 6:17 PM | WSW  12:58 PM | S | 251,518 mi | | 22 |  | 2% | 8:39 AM | ESE | 6:45 PM | WSW  1:42 PM | S | 252,259 mi | | 23 |  | 5% | 9:40 AM | ESE | 7:18 PM | WSW  2:29 PM | S | 252,551 mi | | 24 |  | 10% | 10:41 AM | SE | 7:56 PM | SW  3:18 PM | S | 252,317 mi | |', 'score': 0.8991304}, {'title': 'Weather in San Francisco in October 2025', 'url': 'https://world-weather.info/forecast/el_salvador/san_francisco/october-2025/', 'content': \"Weather\\n Archive\\n Weather Widget\\n\\n World\\n El Salvador\\n Weather in San Francisco\\n\\n# Weather in San Francisco in October 2025\\n\\nSan Francisco Weather Forecast for October 2025, is based on previous years' statistical data.\\n\\nJanFebMarAprMayJunJulAugSepOctNovDec\\n\\n  \\n\\n## October\\n\\nStart Week On\\n\\n Sun\\n Mon\\n Tue\\n Wed\\n Thu\\n Fri\\n Sat\\n\\n +88°\\n\\n  2.9 mph S 28.8 inHg70 %05:41 am05:42 pm\\n 2\\n\\n  +88°\\n\\n  +75°\\n\\n  3.4 mph SE 28.8 inHg69 %05:41 am05:41 pm\\n 3\\n\\n  +88°\\n\\n  +75° [...] 2.5 mph SE 28.9 inHg71 %05:43 am05:31 pm\\n 19\\n\\n  +88°\\n\\n  +73°\\n\\n  3.1 mph SE 28.9 inHg72 %05:43 am05:30 pm\\n 20\\n\\n  +88°\\n\\n  +75°\\n\\n  2.9 mph S 28.9 inHg70 %05:44 am05:30 pm\\n 21\\n\\n  +86°\\n\\n  +75°\\n\\n  2.7 mph S 28.9 inHg69 %05:44 am05:29 pm\\n 22\\n\\n  +88°\\n\\n  +75°\\n\\n  2.9 mph SE 28.9 inHg71 %05:44 am05:29 pm\\n 23\\n\\n  +88°\\n\\n  +75°\\n\\n  3.1 mph SE 28.9 inHg67 %05:44 am05:28 pm\\n 24\\n\\n  +88°\\n\\n  +77°\\n\\n  2.7 mph SE 28.9 inHg66 %05:44 am05:28 pm\\n 25\\n\\n  +88°\\n\\n  +75°\\n\\n  2.9 mph SE 28.9 inHg70 %05:45 am05:27 pm\\n 26 [...] Weather forecast on your site\\n\\nSan Francisco\\n\\n+77°\\n\\nTemperature units\\n\\n°F°C\", 'score': 0.8896154}]\u001b[0m\u001b[32;1m\u001b[1;3mThe current weather in San Francisco is mild and comfortable, with temperatures ranging from 53.4°F to 70.3°F (11.9°C to 21.3°C). There is a chance of light rain showers, with an average precipitation of 1.1 mm. The humidity is around 70%, and the wind speed is approximately 5 mph. It is expected to be sunny for the next few days, with partly cloudy skies and a high temperature of 19°C (66.2°F) on October 23.\u001b[0m\n",
      "\n",
      "\u001b[1m> Finished chain.\u001b[0m\n"
     ]
    },
    {
     "data": {
      "text/plain": [
       "{'input': 'whats the weather in sf?',\n",
       " 'output': 'The current weather in San Francisco is mild and comfortable, with temperatures ranging from 53.4°F to 70.3°F (11.9°C to 21.3°C). There is a chance of light rain showers, with an average precipitation of 1.1 mm. The humidity is around 70%, and the wind speed is approximately 5 mph. It is expected to be sunny for the next few days, with partly cloudy skies and a high temperature of 19°C (66.2°F) on October 23.'}"
      ]
     },
     "execution_count": 65,
     "metadata": {},
     "output_type": "execute_result"
    }
   ],
   "source": [
    "agent_executor.invoke({\"input\": \"whats the weather in sf?\"})"
   ]
  }
 ],
 "metadata": {
  "kernelspec": {
   "display_name": "langgraphvenv",
   "language": "python",
   "name": "python3"
  },
  "language_info": {
   "codemirror_mode": {
    "name": "ipython",
    "version": 3
   },
   "file_extension": ".py",
   "mimetype": "text/x-python",
   "name": "python",
   "nbconvert_exporter": "python",
   "pygments_lexer": "ipython3",
   "version": "3.11.11"
  }
 },
 "nbformat": 4,
 "nbformat_minor": 5
}
